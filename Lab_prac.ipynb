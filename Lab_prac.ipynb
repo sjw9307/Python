{
  "nbformat": 4,
  "nbformat_minor": 0,
  "metadata": {
    "colab": {
      "provenance": [],
      "authorship_tag": "ABX9TyPtvQ8sbnNGQpyk1b8oVxF2",
      "include_colab_link": true
    },
    "kernelspec": {
      "name": "python3",
      "display_name": "Python 3"
    },
    "language_info": {
      "name": "python"
    }
  },
  "cells": [
    {
      "cell_type": "markdown",
      "metadata": {
        "id": "view-in-github",
        "colab_type": "text"
      },
      "source": [
        "<a href=\"https://colab.research.google.com/github/sjw9307/Python/blob/main/Lab_prac.ipynb\" target=\"_parent\"><img src=\"https://colab.research.google.com/assets/colab-badge.svg\" alt=\"Open In Colab\"/></a>"
      ]
    },
    {
      "cell_type": "code",
      "source": [
        "import math\n",
        "math.sqrt(9.0)"
      ],
      "metadata": {
        "colab": {
          "base_uri": "https://localhost:8080/"
        },
        "id": "CsLyskUh51nB",
        "outputId": "7a7886ca-e9e4-4b53-e837-7e420164fcaa"
      },
      "execution_count": null,
      "outputs": [
        {
          "output_type": "execute_result",
          "data": {
            "text/plain": [
              "3.0"
            ]
          },
          "metadata": {},
          "execution_count": 16
        }
      ]
    },
    {
      "cell_type": "code",
      "source": [
        "\"mon\" + \"chat\"\n",
        "\n",
        "(\"mon\" + \"chat \") *5"
      ],
      "metadata": {
        "colab": {
          "base_uri": "https://localhost:8080/",
          "height": 36
        },
        "id": "DKRxEjaD8IUl",
        "outputId": "f1e4b2a2-719f-4c3a-f06f-0e87b5b627c1"
      },
      "execution_count": null,
      "outputs": [
        {
          "output_type": "execute_result",
          "data": {
            "text/plain": [
              "'monchat monchat monchat monchat monchat '"
            ],
            "application/vnd.google.colaboratory.intrinsic+json": {
              "type": "string"
            }
          },
          "metadata": {},
          "execution_count": 14
        }
      ]
    },
    {
      "cell_type": "code",
      "source": [
        "a = 10\n",
        "A = 100\n",
        "print(a)\n",
        "print(A)"
      ],
      "metadata": {
        "colab": {
          "base_uri": "https://localhost:8080/"
        },
        "id": "N8p_JbGM8_md",
        "outputId": "2fe465d7-4b20-4002-afc3-22b833408125"
      },
      "execution_count": null,
      "outputs": [
        {
          "output_type": "stream",
          "name": "stdout",
          "text": [
            "10\n",
            "100\n"
          ]
        }
      ]
    },
    {
      "cell_type": "code",
      "source": [
        "print(\"python has connection fonction as well\", 1,\"like\" , \"this\" , 1)"
      ],
      "metadata": {
        "colab": {
          "base_uri": "https://localhost:8080/"
        },
        "id": "UajDeHWd-xoT",
        "outputId": "7f88c3d3-bbc6-44b7-edda-d7d257e6843d"
      },
      "execution_count": null,
      "outputs": [
        {
          "output_type": "stream",
          "name": "stdout",
          "text": [
            "python has connection fonction as well 1 like this 1\n"
          ]
        }
      ]
    },
    {
      "cell_type": "code",
      "source": [
        "print(\"python has conection fonction has well \" + str(1) + \" like this\")"
      ],
      "metadata": {
        "colab": {
          "base_uri": "https://localhost:8080/"
        },
        "id": "7hdw6y3Y_NzL",
        "outputId": "02782a7e-3c62-43fd-f86b-56f493385f11"
      },
      "execution_count": null,
      "outputs": [
        {
          "output_type": "stream",
          "name": "stdout",
          "text": [
            "pyhthon has conection fonction has well 1 like this\n"
          ]
        }
      ]
    },
    {
      "cell_type": "code",
      "source": [
        "print(\"3*1 =\", 3*1)\n",
        "print(\"3*2 =\", 3*2)\n",
        "print(\"3*3 =\", 3*3)\n"
      ],
      "metadata": {
        "colab": {
          "base_uri": "https://localhost:8080/"
        },
        "id": "l-278cbU_dh9",
        "outputId": "6e8e28c1-ad40-4605-b416-90799ddb6ad0"
      },
      "execution_count": null,
      "outputs": [
        {
          "output_type": "stream",
          "name": "stdout",
          "text": [
            "3*1 = 3\n",
            "3*2 = 6\n",
            "3*3 = 9\n"
          ]
        }
      ]
    },
    {
      "cell_type": "code",
      "source": [
        "print(\"hi, 👋  python\")"
      ],
      "metadata": {
        "colab": {
          "base_uri": "https://localhost:8080/"
        },
        "id": "f8ndb_qQ5-eq",
        "outputId": "05bdcb59-7747-4a57-d214-fc73065d52cb"
      },
      "execution_count": null,
      "outputs": [
        {
          "output_type": "stream",
          "name": "stdout",
          "text": [
            "hi, 👋  python\n"
          ]
        }
      ]
    },
    {
      "cell_type": "code",
      "source": [
        "!pip3 install ColabTurtle"
      ],
      "metadata": {
        "id": "6a2-ZFkcAhNG",
        "colab": {
          "base_uri": "https://localhost:8080/"
        },
        "outputId": "a2e9d1fb-03d8-4143-d593-1d4469e8cbcf"
      },
      "execution_count": null,
      "outputs": [
        {
          "output_type": "stream",
          "name": "stdout",
          "text": [
            "Looking in indexes: https://pypi.org/simple, https://us-python.pkg.dev/colab-wheels/public/simple/\n",
            "Collecting ColabTurtle\n",
            "  Downloading ColabTurtle-2.1.0.tar.gz (6.8 kB)\n",
            "  Preparing metadata (setup.py) ... \u001b[?25l\u001b[?25hdone\n",
            "Building wheels for collected packages: ColabTurtle\n",
            "  Building wheel for ColabTurtle (setup.py) ... \u001b[?25l\u001b[?25hdone\n",
            "  Created wheel for ColabTurtle: filename=ColabTurtle-2.1.0-py3-none-any.whl size=7656 sha256=c2e3aa747dc778f30937bfc2ff4e2c3c58221459e13d0b40d869c802d5da1369\n",
            "  Stored in directory: /root/.cache/pip/wheels/a8/ab/ce/4aca5e858d2561104f45e6164390067231381836678b908064\n",
            "Successfully built ColabTurtle\n",
            "Installing collected packages: ColabTurtle\n",
            "Successfully installed ColabTurtle-2.1.0\n"
          ]
        }
      ]
    },
    {
      "cell_type": "code",
      "source": [
        "import ColabTurtle.Turtle as t\n",
        "t.initializeTurtle(initial_speed = 5)\n",
        "print(\"Question : make a square\")\n",
        "t.color(\"Red\")\n",
        "t.forward(100)\n",
        "t.right(90)\n",
        "t.forward(100)\n",
        "t.right(90)\n",
        "t.forward(100)\n",
        "t.right(90)\n",
        "t.forward(100)"
      ],
      "metadata": {
        "colab": {
          "base_uri": "https://localhost:8080/",
          "height": 540
        },
        "id": "lHRSvwqkAzMG",
        "outputId": "c9f04040-2e10-4643-882c-4701e4c03756"
      },
      "execution_count": null,
      "outputs": [
        {
          "output_type": "display_data",
          "data": {
            "text/plain": [
              "<IPython.core.display.HTML object>"
            ],
            "text/html": [
              "\n",
              "      <svg width=\"800\" height=\"500\">\n",
              "        <rect width=\"100%\" height=\"100%\" fill=\"black\"/>\n",
              "        <line x1=\"400\" y1=\"250\" x2=\"400.0\" y2=\"150.0\" stroke-linecap=\"round\" style=\"stroke:red;stroke-width:4\"/><line x1=\"400.0\" y1=\"150.0\" x2=\"500.0\" y2=\"150.0\" stroke-linecap=\"round\" style=\"stroke:red;stroke-width:4\"/><line x1=\"500.0\" y1=\"150.0\" x2=\"500.0\" y2=\"250.0\" stroke-linecap=\"round\" style=\"stroke:red;stroke-width:4\"/><line x1=\"500.0\" y1=\"250.0\" x2=\"400.0\" y2=\"250.0\" stroke-linecap=\"round\" style=\"stroke:red;stroke-width:4\"/>\n",
              "        <g visibility=visible transform=\"rotate(270,400.0,250.0) translate(382.0, 232.0)\">\n",
              "<path style=\" stroke:none;fill-rule:evenodd;fill:red;fill-opacity:1;\" d=\"M 18.214844 0.632812 C 16.109375 1.800781 15.011719 4.074219 15.074219 7.132812 L 15.085938 7.652344 L 14.785156 7.496094 C 13.476562 6.824219 11.957031 6.671875 10.40625 7.066406 C 8.46875 7.550781 6.515625 9.15625 4.394531 11.992188 C 3.0625 13.777344 2.679688 14.636719 3.042969 15.027344 L 3.15625 15.152344 L 3.519531 15.152344 C 4.238281 15.152344 4.828125 14.886719 8.1875 13.039062 C 9.386719 12.378906 10.371094 11.839844 10.378906 11.839844 C 10.386719 11.839844 10.355469 11.929688 10.304688 12.035156 C 9.832031 13.09375 9.257812 14.820312 8.96875 16.078125 C 7.914062 20.652344 8.617188 24.53125 11.070312 27.660156 C 11.351562 28.015625 11.363281 27.914062 10.972656 28.382812 C 8.925781 30.84375 7.945312 33.28125 8.238281 35.1875 C 8.289062 35.527344 8.28125 35.523438 8.917969 35.523438 C 10.941406 35.523438 13.074219 34.207031 15.136719 31.6875 C 15.359375 31.417969 15.328125 31.425781 15.5625 31.574219 C 16.292969 32.042969 18.023438 32.964844 18.175781 32.964844 C 18.335938 32.964844 19.941406 32.210938 20.828125 31.71875 C 20.996094 31.625 21.136719 31.554688 21.136719 31.558594 C 21.203125 31.664062 21.898438 32.414062 22.222656 32.730469 C 23.835938 34.300781 25.5625 35.132812 27.582031 35.300781 C 27.90625 35.328125 27.9375 35.308594 28.007812 34.984375 C 28.382812 33.242188 27.625 30.925781 25.863281 28.425781 L 25.542969 27.96875 L 25.699219 27.785156 C 28.945312 23.960938 29.132812 18.699219 26.257812 11.96875 L 26.207031 11.84375 L 27.945312 12.703125 C 31.53125 14.476562 32.316406 14.800781 33.03125 14.800781 C 33.976562 14.800781 33.78125 13.9375 32.472656 12.292969 C 28.519531 7.355469 25.394531 5.925781 21.921875 7.472656 L 21.558594 7.636719 L 21.578125 7.542969 C 21.699219 6.992188 21.761719 5.742188 21.699219 5.164062 C 21.496094 3.296875 20.664062 1.964844 19.003906 0.855469 C 18.480469 0.503906 18.457031 0.5 18.214844 0.632812\"/>\n",
              "</g>\n",
              "      </svg>\n",
              "    "
            ]
          },
          "metadata": {}
        },
        {
          "output_type": "stream",
          "name": "stdout",
          "text": [
            "Question : make a square\n"
          ]
        }
      ]
    },
    {
      "cell_type": "code",
      "source": [
        "import ColabTurtle.Turtle as t\n",
        "t.initializeTurtle(initial_speed = 5)\n",
        "print(\"Question : make a triangle\")\n",
        "t.color(\"Blue\")\n",
        "\n",
        "t.forward(100)\n",
        "t.right(120)\n",
        "t.forward(100)\n",
        "t.right(120)\n",
        "t.forward(100)\n",
        "\n",
        "t.right(60)\n",
        "t.forward(100)\n",
        "t.right(120)\n",
        "t.forward(100)"
      ],
      "metadata": {
        "colab": {
          "base_uri": "https://localhost:8080/",
          "height": 540
        },
        "id": "VytmxXV-CgTw",
        "outputId": "b6de12e4-54cc-4ee0-d2aa-636a244c29b0"
      },
      "execution_count": null,
      "outputs": [
        {
          "output_type": "display_data",
          "data": {
            "text/plain": [
              "<IPython.core.display.HTML object>"
            ],
            "text/html": [
              "\n",
              "      <svg width=\"800\" height=\"500\">\n",
              "        <rect width=\"100%\" height=\"100%\" fill=\"black\"/>\n",
              "        <line x1=\"400\" y1=\"250\" x2=\"400.0\" y2=\"150.0\" stroke-linecap=\"round\" style=\"stroke:blue;stroke-width:4\"/><line x1=\"400.0\" y1=\"150.0\" x2=\"486.603\" y2=\"200.0\" stroke-linecap=\"round\" style=\"stroke:blue;stroke-width:4\"/><line x1=\"486.603\" y1=\"200.0\" x2=\"400.0\" y2=\"250.0\" stroke-linecap=\"round\" style=\"stroke:blue;stroke-width:4\"/><line x1=\"400.0\" y1=\"250.0\" x2=\"313.397\" y2=\"200.0\" stroke-linecap=\"round\" style=\"stroke:blue;stroke-width:4\"/><line x1=\"313.397\" y1=\"200.0\" x2=\"400.0\" y2=\"150.0\" stroke-linecap=\"round\" style=\"stroke:blue;stroke-width:4\"/>\n",
              "        <g visibility=visible transform=\"rotate(420,400.0,150.0) translate(382.0, 132.0)\">\n",
              "<path style=\" stroke:none;fill-rule:evenodd;fill:blue;fill-opacity:1;\" d=\"M 18.214844 0.632812 C 16.109375 1.800781 15.011719 4.074219 15.074219 7.132812 L 15.085938 7.652344 L 14.785156 7.496094 C 13.476562 6.824219 11.957031 6.671875 10.40625 7.066406 C 8.46875 7.550781 6.515625 9.15625 4.394531 11.992188 C 3.0625 13.777344 2.679688 14.636719 3.042969 15.027344 L 3.15625 15.152344 L 3.519531 15.152344 C 4.238281 15.152344 4.828125 14.886719 8.1875 13.039062 C 9.386719 12.378906 10.371094 11.839844 10.378906 11.839844 C 10.386719 11.839844 10.355469 11.929688 10.304688 12.035156 C 9.832031 13.09375 9.257812 14.820312 8.96875 16.078125 C 7.914062 20.652344 8.617188 24.53125 11.070312 27.660156 C 11.351562 28.015625 11.363281 27.914062 10.972656 28.382812 C 8.925781 30.84375 7.945312 33.28125 8.238281 35.1875 C 8.289062 35.527344 8.28125 35.523438 8.917969 35.523438 C 10.941406 35.523438 13.074219 34.207031 15.136719 31.6875 C 15.359375 31.417969 15.328125 31.425781 15.5625 31.574219 C 16.292969 32.042969 18.023438 32.964844 18.175781 32.964844 C 18.335938 32.964844 19.941406 32.210938 20.828125 31.71875 C 20.996094 31.625 21.136719 31.554688 21.136719 31.558594 C 21.203125 31.664062 21.898438 32.414062 22.222656 32.730469 C 23.835938 34.300781 25.5625 35.132812 27.582031 35.300781 C 27.90625 35.328125 27.9375 35.308594 28.007812 34.984375 C 28.382812 33.242188 27.625 30.925781 25.863281 28.425781 L 25.542969 27.96875 L 25.699219 27.785156 C 28.945312 23.960938 29.132812 18.699219 26.257812 11.96875 L 26.207031 11.84375 L 27.945312 12.703125 C 31.53125 14.476562 32.316406 14.800781 33.03125 14.800781 C 33.976562 14.800781 33.78125 13.9375 32.472656 12.292969 C 28.519531 7.355469 25.394531 5.925781 21.921875 7.472656 L 21.558594 7.636719 L 21.578125 7.542969 C 21.699219 6.992188 21.761719 5.742188 21.699219 5.164062 C 21.496094 3.296875 20.664062 1.964844 19.003906 0.855469 C 18.480469 0.503906 18.457031 0.5 18.214844 0.632812\"/>\n",
              "</g>\n",
              "      </svg>\n",
              "    "
            ]
          },
          "metadata": {}
        },
        {
          "output_type": "stream",
          "name": "stdout",
          "text": [
            "Question : make a triangle\n"
          ]
        }
      ]
    },
    {
      "cell_type": "code",
      "source": [
        "import ColabTurtlePlus.Turtle as t\n",
        "from ColabTurtlePlus.Turtle import *\n",
        "\n",
        "t.initializeTurtle()\n",
        "t.shape('square')\n",
        "t.setup(400,400)\n",
        "t.showborder()\n",
        "t.forward(100)\n"
      ],
      "metadata": {
        "colab": {
          "base_uri": "https://localhost:8080/",
          "height": 422
        },
        "id": "jWt2qobPE99n",
        "outputId": "45bdc526-3351-4cb6-ab26-d48e6b3dc819"
      },
      "execution_count": null,
      "outputs": [
        {
          "output_type": "display_data",
          "data": {
            "text/plain": [
              "<IPython.core.display.HTML object>"
            ],
            "text/html": [
              "\n",
              "      <svg width=\"400\" height=\"400\">  \n",
              "        <rect width=\"100%\" height=\"100%\" style=\"fill:white;stroke:gray;stroke-width:1\"/>\n",
              "        \n",
              "        \n",
              "        <line x1=\"200.0\" y1=\"200.0\" x2=\"210.0\" y2=\"200.0\" stroke-linecap=\"round\" style=\"stroke:black;stroke-width:1\" /><line x1=\"210.0\" y1=\"200.0\" x2=\"220.0\" y2=\"200.0\" stroke-linecap=\"round\" style=\"stroke:black;stroke-width:1\" /><line x1=\"220.0\" y1=\"200.0\" x2=\"230.0\" y2=\"200.0\" stroke-linecap=\"round\" style=\"stroke:black;stroke-width:1\" /><line x1=\"230.0\" y1=\"200.0\" x2=\"240.0\" y2=\"200.0\" stroke-linecap=\"round\" style=\"stroke:black;stroke-width:1\" /><line x1=\"240.0\" y1=\"200.0\" x2=\"250.0\" y2=\"200.0\" stroke-linecap=\"round\" style=\"stroke:black;stroke-width:1\" /><line x1=\"250.0\" y1=\"200.0\" x2=\"260.0\" y2=\"200.0\" stroke-linecap=\"round\" style=\"stroke:black;stroke-width:1\" /><line x1=\"260.0\" y1=\"200.0\" x2=\"270.0\" y2=\"200.0\" stroke-linecap=\"round\" style=\"stroke:black;stroke-width:1\" /><line x1=\"270.0\" y1=\"200.0\" x2=\"280.0\" y2=\"200.0\" stroke-linecap=\"round\" style=\"stroke:black;stroke-width:1\" /><line x1=\"280.0\" y1=\"200.0\" x2=\"290.0\" y2=\"200.0\" stroke-linecap=\"round\" style=\"stroke:black;stroke-width:1\" /><line x1=\"290.0\" y1=\"200.0\" x2=\"300.0\" y2=\"200.0\" stroke-linecap=\"round\" style=\"stroke:black;stroke-width:1\" />\n",
              "        \n",
              "        \n",
              "        <g id=\"square\" visibility=\"visible\" transform=\"rotate(-90,300.0,200.0) translate(300.0, 200.0)\">\n",
              "<polygon points=\"10,-10 10,10 -10,10 -10,-10\" transform=\"skewX(0) scale(1,1)\" style=\"stroke:black;fill:black;stroke-width:1\" />\n",
              "</g>\n",
              "      </svg>\n",
              "    "
            ]
          },
          "metadata": {}
        }
      ]
    },
    {
      "cell_type": "code",
      "source": [
        "radius = 10;\n",
        "PI = 3.141592;\n",
        "\n",
        "area = radius * 2 * PI;\n",
        "print(\"반지름\",radius,\"인 원의 면적=\",area);"
      ],
      "metadata": {
        "colab": {
          "base_uri": "https://localhost:8080/"
        },
        "id": "VvtSN7uabpvh",
        "outputId": "fad40185-8332-40ce-e3c9-5c4c299633bd"
      },
      "execution_count": null,
      "outputs": [
        {
          "output_type": "stream",
          "name": "stdout",
          "text": [
            "반지름 10 인 원의 면적= 62.83184\n"
          ]
        }
      ]
    },
    {
      "cell_type": "code",
      "source": [
        "W = 10;\n",
        "H = 10;\n",
        "Volume = (W*H)/2;\n",
        "\n",
        "print(\"밑변의 길이가\",W,\"cm이고, 높이가\",H,\"cm인 삼각형의 면적은\", Volume,\"이다.\")"
      ],
      "metadata": {
        "colab": {
          "base_uri": "https://localhost:8080/"
        },
        "id": "_Pkq0reZdARi",
        "outputId": "e893ee8d-a7b5-429b-e475-8fbe6af17d40"
      },
      "execution_count": null,
      "outputs": [
        {
          "output_type": "stream",
          "name": "stdout",
          "text": [
            "밑변의 길이가 10 cm이고, 높이가 10 cm인 삼각형의 면적은 50.0 이다.\n"
          ]
        }
      ]
    },
    {
      "cell_type": "code",
      "source": [
        "print(type(\"123\"))\n",
        "print(type(123))\n",
        "print(type(1.23))\n",
        "a = 10\n",
        "b = 10\n",
        "print(type(a))\n",
        "\n",
        "print(id(a))\n",
        "print(id(b))\n",
        "\n"
      ],
      "metadata": {
        "colab": {
          "base_uri": "https://localhost:8080/"
        },
        "id": "6p6HMSDSgbkn",
        "outputId": "8eada8f0-2519-4dd6-ef63-8ff153b02310"
      },
      "execution_count": null,
      "outputs": [
        {
          "output_type": "stream",
          "name": "stdout",
          "text": [
            "<class 'str'>\n",
            "<class 'int'>\n",
            "<class 'float'>\n",
            "<class 'int'>\n",
            "140565310806608\n",
            "140565310806608\n"
          ]
        }
      ]
    },
    {
      "cell_type": "code",
      "source": [
        "ftemp = 100\n",
        "\n",
        "ctemp= ((ftemp-32.0)*5.0)/9.0\n",
        "print(\"섭씨온도:\", ctemp)"
      ],
      "metadata": {
        "colab": {
          "base_uri": "https://localhost:8080/"
        },
        "id": "dPvhMZSziFIE",
        "outputId": "db58744a-777f-4aae-8ccc-1559c9897337"
      },
      "execution_count": null,
      "outputs": [
        {
          "output_type": "stream",
          "name": "stdout",
          "text": [
            "섭씨온도: 37.77777777777778\n"
          ]
        }
      ]
    },
    {
      "cell_type": "code",
      "source": [
        "ctemp = 37.77777777777778\n",
        "\n",
        "ftemp = ((ctemp*9.0)/5.0)+32.0\n",
        "print(\"화씨온도:\", ftemp)"
      ],
      "metadata": {
        "colab": {
          "base_uri": "https://localhost:8080/"
        },
        "id": "ZwT-B2pjih-3",
        "outputId": "1e563360-3356-45a6-88db-530fde2a20ef"
      },
      "execution_count": null,
      "outputs": [
        {
          "output_type": "stream",
          "name": "stdout",
          "text": [
            "화씨온도: 100.0\n"
          ]
        }
      ]
    },
    {
      "cell_type": "code",
      "source": [
        "PI = 3.14\n",
        "r = 5\n",
        "h = 10\n",
        "V = PI*r*r*h\n",
        "\n",
        "print(\"반지름이\",r,\"높이가\",h,\"인 원기둥의 부피는\",V,\"입니다\")"
      ],
      "metadata": {
        "colab": {
          "base_uri": "https://localhost:8080/"
        },
        "id": "TdbLjBILkNDJ",
        "outputId": "25976f17-8f4f-4d9b-e86c-3b1ce04cc197"
      },
      "execution_count": null,
      "outputs": [
        {
          "output_type": "stream",
          "name": "stdout",
          "text": [
            "반지름이 5 높이가 10 인 원기둥의 부피는 785.0 입니다\n"
          ]
        }
      ]
    },
    {
      "cell_type": "code",
      "source": [
        "origin_money = 24                  #원금\n",
        "r = 0.06                           #이자율\n",
        "year = 382                         #기간\n",
        "result = origin_money*(1+r)**year  #원리금합계\n",
        "\n",
        "result = round(result, 1)\n",
        "\n",
        "print(\"원리금합계(USD Dollar, 소수점 1번째 자리까지 표시.)=\",result)"
      ],
      "metadata": {
        "colab": {
          "base_uri": "https://localhost:8080/"
        },
        "id": "ir87ocYln5CJ",
        "outputId": "ceffedca-b38b-4c11-f8d9-26bb581b947b"
      },
      "execution_count": null,
      "outputs": [
        {
          "output_type": "stream",
          "name": "stdout",
          "text": [
            "원리금합계(USD Dollar, 소수점 1번째 자리)= 111442737812.3\n"
          ]
        }
      ]
    },
    {
      "cell_type": "code",
      "source": [
        "speed = 300000.0\n",
        "distance = 40*(10**12)\n",
        "\n",
        "sec = distance/speed \n",
        "light_year= sec/((60.0**2)*24.0*365.0)\n",
        "\n",
        "print(light_year,\"광년\")"
      ],
      "metadata": {
        "colab": {
          "base_uri": "https://localhost:8080/"
        },
        "id": "_j1T2kttpYHm",
        "outputId": "acffb6a6-400f-433c-97bc-1ae2445dd6c5"
      },
      "execution_count": null,
      "outputs": [
        {
          "output_type": "stream",
          "name": "stdout",
          "text": [
            "4.227972264501945 광년\n"
          ]
        }
      ]
    },
    {
      "cell_type": "code",
      "source": [
        "import ColabTurtle.Turtle as t\n",
        "t.initializeTurtle(initial_speed = 5)\n",
        "print(\"Question : make a star in pentagon\")\n",
        "t.color(\"Blue\")\n",
        "\n",
        "t.left(90)\n",
        "t.forward(100)\n",
        "\n",
        "t.right(72)\n",
        "t.forward(100)\n",
        "\n",
        "t.right(72)\n",
        "t.forward(100)\n",
        "\n",
        "t.right(72)\n",
        "t.forward(100)\n",
        "\n",
        "t.right(72)\n",
        "t.forward(100)\n",
        "\n",
        "t.right(108)\n",
        "t.forward(160)\n",
        "\n",
        "t.right(145)\n",
        "t.forward(160)\n",
        "\n",
        "t.right(145)\n",
        "t.forward(160)\n",
        "\n",
        "t.right(145)\n",
        "t.forward(160)\n",
        "\n",
        "t.right(145)\n",
        "t.forward(160)"
      ],
      "metadata": {
        "colab": {
          "base_uri": "https://localhost:8080/",
          "height": 540
        },
        "id": "ta78CBILtEDq",
        "outputId": "2c5d8223-702e-40e5-b193-969ece89b95b"
      },
      "execution_count": null,
      "outputs": [
        {
          "output_type": "display_data",
          "data": {
            "text/plain": [
              "<IPython.core.display.HTML object>"
            ],
            "text/html": [
              "\n",
              "      <svg width=\"800\" height=\"500\">\n",
              "        <rect width=\"100%\" height=\"100%\" fill=\"black\"/>\n",
              "        <line x1=\"400\" y1=\"250\" x2=\"300.0\" y2=\"250.0\" stroke-linecap=\"round\" style=\"stroke:blue;stroke-width:4\"/><line x1=\"300.0\" y1=\"250.0\" x2=\"269.098\" y2=\"154.894\" stroke-linecap=\"round\" style=\"stroke:blue;stroke-width:4\"/><line x1=\"269.098\" y1=\"154.894\" x2=\"350.0\" y2=\"96.115\" stroke-linecap=\"round\" style=\"stroke:blue;stroke-width:4\"/><line x1=\"350.0\" y1=\"96.115\" x2=\"430.902\" y2=\"154.894\" stroke-linecap=\"round\" style=\"stroke:blue;stroke-width:4\"/><line x1=\"430.902\" y1=\"154.894\" x2=\"400.0\" y2=\"250.0\" stroke-linecap=\"round\" style=\"stroke:blue;stroke-width:4\"/><line x1=\"400.0\" y1=\"250.0\" x2=\"270.557\" y2=\"155.954\" stroke-linecap=\"round\" style=\"stroke:blue;stroke-width:4\"/><line x1=\"270.557\" y1=\"155.954\" x2=\"430.533\" y2=\"158.746\" stroke-linecap=\"round\" style=\"stroke:blue;stroke-width:4\"/><line x1=\"430.533\" y1=\"158.746\" x2=\"297.887\" y2=\"248.217\" stroke-linecap=\"round\" style=\"stroke:blue;stroke-width:4\"/><line x1=\"297.887\" y1=\"248.217\" x2=\"355.226\" y2=\"98.844\" stroke-linecap=\"round\" style=\"stroke:blue;stroke-width:4\"/><line x1=\"355.226\" y1=\"98.844\" x2=\"393.934\" y2=\"254.091\" stroke-linecap=\"round\" style=\"stroke:blue;stroke-width:4\"/>\n",
              "        <g visibility=visible transform=\"rotate(166,393.934,254.091) translate(375.934, 236.091)\">\n",
              "<path style=\" stroke:none;fill-rule:evenodd;fill:blue;fill-opacity:1;\" d=\"M 18.214844 0.632812 C 16.109375 1.800781 15.011719 4.074219 15.074219 7.132812 L 15.085938 7.652344 L 14.785156 7.496094 C 13.476562 6.824219 11.957031 6.671875 10.40625 7.066406 C 8.46875 7.550781 6.515625 9.15625 4.394531 11.992188 C 3.0625 13.777344 2.679688 14.636719 3.042969 15.027344 L 3.15625 15.152344 L 3.519531 15.152344 C 4.238281 15.152344 4.828125 14.886719 8.1875 13.039062 C 9.386719 12.378906 10.371094 11.839844 10.378906 11.839844 C 10.386719 11.839844 10.355469 11.929688 10.304688 12.035156 C 9.832031 13.09375 9.257812 14.820312 8.96875 16.078125 C 7.914062 20.652344 8.617188 24.53125 11.070312 27.660156 C 11.351562 28.015625 11.363281 27.914062 10.972656 28.382812 C 8.925781 30.84375 7.945312 33.28125 8.238281 35.1875 C 8.289062 35.527344 8.28125 35.523438 8.917969 35.523438 C 10.941406 35.523438 13.074219 34.207031 15.136719 31.6875 C 15.359375 31.417969 15.328125 31.425781 15.5625 31.574219 C 16.292969 32.042969 18.023438 32.964844 18.175781 32.964844 C 18.335938 32.964844 19.941406 32.210938 20.828125 31.71875 C 20.996094 31.625 21.136719 31.554688 21.136719 31.558594 C 21.203125 31.664062 21.898438 32.414062 22.222656 32.730469 C 23.835938 34.300781 25.5625 35.132812 27.582031 35.300781 C 27.90625 35.328125 27.9375 35.308594 28.007812 34.984375 C 28.382812 33.242188 27.625 30.925781 25.863281 28.425781 L 25.542969 27.96875 L 25.699219 27.785156 C 28.945312 23.960938 29.132812 18.699219 26.257812 11.96875 L 26.207031 11.84375 L 27.945312 12.703125 C 31.53125 14.476562 32.316406 14.800781 33.03125 14.800781 C 33.976562 14.800781 33.78125 13.9375 32.472656 12.292969 C 28.519531 7.355469 25.394531 5.925781 21.921875 7.472656 L 21.558594 7.636719 L 21.578125 7.542969 C 21.699219 6.992188 21.761719 5.742188 21.699219 5.164062 C 21.496094 3.296875 20.664062 1.964844 19.003906 0.855469 C 18.480469 0.503906 18.457031 0.5 18.214844 0.632812\"/>\n",
              "</g>\n",
              "      </svg>\n",
              "    "
            ]
          },
          "metadata": {}
        },
        {
          "output_type": "stream",
          "name": "stdout",
          "text": [
            "Question : make a star in pentagon\n"
          ]
        }
      ]
    },
    {
      "cell_type": "code",
      "source": [
        "a = \"By\"\n",
        "b = \"The\"\n",
        "c = \"Way\"\n",
        "\n",
        "print(a[0]+b[0]+c[0])\n",
        "print(a[-1]+b[-1]+c[-1])"
      ],
      "metadata": {
        "colab": {
          "base_uri": "https://localhost:8080/"
        },
        "id": "NsMu7ydZ5mE7",
        "outputId": "5f52e98d-ab15-4087-daaf-7a77710dd815"
      },
      "execution_count": null,
      "outputs": [
        {
          "output_type": "stream",
          "name": "stdout",
          "text": [
            "BTW\n",
            "yey\n"
          ]
        }
      ]
    },
    {
      "cell_type": "code",
      "source": [
        "name = \"Jinwon SEO\"\n",
        "\n",
        "print(name.lower());\n",
        "print(name.upper())"
      ],
      "metadata": {
        "colab": {
          "base_uri": "https://localhost:8080/"
        },
        "id": "ESue2f_56mH8",
        "outputId": "42d22a79-9462-4fdb-a5b9-5bd66b1797b0"
      },
      "execution_count": null,
      "outputs": [
        {
          "output_type": "stream",
          "name": "stdout",
          "text": [
            "jinwon seo\n",
            "JINWON SEO\n"
          ]
        }
      ]
    },
    {
      "cell_type": "code",
      "source": [
        "name = \"Jinwon SEO\"\n",
        "\n",
        "new_name = name.replace(\"Jinwon\",\"Teayang\");\n",
        "print(new_name)"
      ],
      "metadata": {
        "colab": {
          "base_uri": "https://localhost:8080/"
        },
        "id": "3JfOSpO_7HMM",
        "outputId": "f2bad93a-47d9-48e6-8354-45c270a47afa"
      },
      "execution_count": null,
      "outputs": [
        {
          "output_type": "stream",
          "name": "stdout",
          "text": [
            "Teayang SEO\n"
          ]
        }
      ]
    },
    {
      "cell_type": "code",
      "source": [
        "name = input(\"your name?\")\n",
        "student_number = input(\"student number?\")\n",
        "id = input(\"id?\")\n",
        "\n",
        "print(name,student_number,id);\n"
      ],
      "metadata": {
        "colab": {
          "base_uri": "https://localhost:8080/"
        },
        "id": "-mUod6lm7lQk",
        "outputId": "436c495c-14ea-4ad0-c861-854bd0c0f0de"
      },
      "execution_count": null,
      "outputs": [
        {
          "output_type": "stream",
          "name": "stdout",
          "text": [
            "your name?5\n",
            "student number?6\n",
            "id?7\n",
            "5 6 7\n"
          ]
        }
      ]
    },
    {
      "cell_type": "code",
      "source": [
        "X = int(input(\"first number\"))\n",
        "Y = int(input(\"seconde number\"))\n",
        "sum = X+Y\n",
        "print(X,\"와\",Y,\"의 합은\",sum,\"입니다.\")"
      ],
      "metadata": {
        "colab": {
          "base_uri": "https://localhost:8080/"
        },
        "id": "g_OqakDF7_yL",
        "outputId": "275b14e5-37d5-4ba9-bfdc-5ce9b067d9fe"
      },
      "execution_count": null,
      "outputs": [
        {
          "output_type": "stream",
          "name": "stdout",
          "text": [
            "first number5\n",
            "seconde number7\n",
            "5 와 7 의 합은 12 입니다.\n"
          ]
        }
      ]
    },
    {
      "cell_type": "code",
      "source": [
        "X = int(input(\"first number\"))\n",
        "Y = int(input(\"seconde number\"))\n",
        "sum = X*Y\n",
        "print(X,\"와\",Y,\"의 곱은\",sum,\"입니다.\")"
      ],
      "metadata": {
        "colab": {
          "base_uri": "https://localhost:8080/"
        },
        "id": "zOuqBXZo9CQH",
        "outputId": "a7d5a7ba-c46e-4dad-ad63-6dea440edb62"
      },
      "execution_count": null,
      "outputs": [
        {
          "output_type": "stream",
          "name": "stdout",
          "text": [
            "first number5\n",
            "seconde number7\n",
            "5 와 7 의 곱은 35 입니다.\n"
          ]
        }
      ]
    },
    {
      "cell_type": "code",
      "source": [
        "Place_name = input(\"경기장은?\")\n",
        "Winner = input(\"이긴팀은?\")\n",
        "Looser = input(\"진 팀은?\")\n",
        "\n",
        "print(\"오늘은\", Place_name, \"에서 야구경기가 열렸습니다\")\n",
        "print(\"이긴 팀은\", Winner, \"입니다\")\n",
        "print(\"진팀 은\", Looser, \"입니다\")"
      ],
      "metadata": {
        "colab": {
          "base_uri": "https://localhost:8080/"
        },
        "id": "RE0vfC4Z9VMq",
        "outputId": "e62ec64e-26be-422d-c5de-cd305f12042f"
      },
      "execution_count": null,
      "outputs": [
        {
          "output_type": "stream",
          "name": "stdout",
          "text": [
            "경기장은?1\n",
            "이긴팀은?1\n",
            "진 팀은?1\n",
            "오늘은 1 에서 야구경기가 열렸습니다\n",
            "이긴 팀은 1 입니다\n",
            "진팀 은 1 입니다\n"
          ]
        }
      ]
    },
    {
      "cell_type": "code",
      "source": [
        "SQMETER_PER_P = 3.3\n",
        "area = float(input (\"면적(제곱미터):\"))\n",
        "PYEONG = area / SQMETER_PER_P25.\n",
        "print(round(PYEONG,1),\"평\")\n",
        "\n",
        "SQMETER_PER_P = 3.3\n",
        "area = float(input (\"면적(제곱미터):\"))\n",
        "PYEONG = area / SQMETER_PER_P\n",
        "print(\"%0.2f\"%PYEONG,\"평\")\n"
      ],
      "metadata": {
        "colab": {
          "base_uri": "https://localhost:8080/"
        },
        "id": "9JVxIK2D-w5t",
        "outputId": "363bf62c-06c8-41f0-f2da-3ad29a353b94"
      },
      "execution_count": null,
      "outputs": [
        {
          "output_type": "stream",
          "name": "stdout",
          "text": [
            "면적(제곱미터):25.6\n",
            "7.8 평\n",
            "면적(제곱미터):25.6\n",
            "7.76 평\n"
          ]
        }
      ]
    },
    {
      "cell_type": "code",
      "source": [
        "print(\"안녕하세요?\")\n",
        "user_name= input(\"이름이 어떻게 되시나요?\")\n",
        "print(\"만나서 반갑습니다.\",user_name,\"씨\")\n",
        "\n",
        "print(\"이름의 길이는 다음과 같군요:\",len(user_name))\n",
        "\n",
        "user_age = int(input(\"나이가 어떻게 되시나요?\"))\n",
        "print(\"내년이면\",user_age+1,\"이 되시는군요.\")"
      ],
      "metadata": {
        "colab": {
          "base_uri": "https://localhost:8080/"
        },
        "id": "dw0LkM_8AB4z",
        "outputId": "cc2abf68-2401-411a-b81b-676f75666515"
      },
      "execution_count": null,
      "outputs": [
        {
          "output_type": "stream",
          "name": "stdout",
          "text": [
            "안녕하세요?\n",
            "이름이 어떻게 되시나요?a\n",
            "만나서 반갑습니다. a 씨\n",
            "이름의 길이는 다음과 같군요: 1\n",
            "나이가 어떻게 되시나요?21\n",
            "내년이면 22 이 되시는군요.\n"
          ]
        }
      ]
    },
    {
      "cell_type": "code",
      "source": [
        "##\n",
        "# 이 프로그램은 사용자로부터 크기를 받아서 사각형을 그린다.\n",
        "\n",
        "import ColabTurtlePlus.Turtle as T\n",
        "\n",
        "T.clearscreen()\n",
        "\n",
        "T.setup(500,500)\n",
        "T.shape(\"turtle2\")\n",
        "T.showborder()\n",
        "\n",
        "CONST_ANGLE = 90\n",
        "size=int(input(\"Type the size of square \"))\n",
        "\n",
        "T.forward(size)\n",
        "T.left(CONST_ANGLE)\n",
        "T.forward(size)\n",
        "T.left(CONST_ANGLE)\n",
        "T.forward(size)\n",
        "T.left(CONST_ANGLE)\n",
        "T.forward(size)\n"
      ],
      "metadata": {
        "colab": {
          "base_uri": "https://localhost:8080/",
          "height": 540
        },
        "id": "gcAvULrnBlu8",
        "outputId": "a1614790-10ce-4844-86b7-548c7df24109"
      },
      "execution_count": null,
      "outputs": [
        {
          "output_type": "display_data",
          "data": {
            "text/plain": [
              "<IPython.core.display.HTML object>"
            ],
            "text/html": [
              "\n",
              "      <svg width=\"500\" height=\"500\">  \n",
              "        <rect width=\"100%\" height=\"100%\" style=\"fill:white;stroke:gray;stroke-width:1\"/>\n",
              "        \n",
              "        \n",
              "        <line x1=\"250.0\" y1=\"250.0\" x2=\"350.0\" y2=\"250.0\" stroke-linecap=\"round\" style=\"stroke:black;stroke-width:1\" /><line x1=\"350.0\" y1=\"250.0\" x2=\"350.0\" y2=\"150.0\" stroke-linecap=\"round\" style=\"stroke:black;stroke-width:1\" /><line x1=\"350.0\" y1=\"150.0\" x2=\"250.0\" y2=\"150.0\" stroke-linecap=\"round\" style=\"stroke:black;stroke-width:1\" /><line x1=\"250.0\" y1=\"150.0\" x2=\"250.0\" y2=\"160.0\" stroke-linecap=\"round\" style=\"stroke:black;stroke-width:1\" /><line x1=\"250.0\" y1=\"160.0\" x2=\"250.0\" y2=\"170.0\" stroke-linecap=\"round\" style=\"stroke:black;stroke-width:1\" /><line x1=\"250.0\" y1=\"170.0\" x2=\"250.0\" y2=\"180.0\" stroke-linecap=\"round\" style=\"stroke:black;stroke-width:1\" /><line x1=\"250.0\" y1=\"180.0\" x2=\"250.0\" y2=\"190.0\" stroke-linecap=\"round\" style=\"stroke:black;stroke-width:1\" /><line x1=\"250.0\" y1=\"190.0\" x2=\"250.0\" y2=\"200.0\" stroke-linecap=\"round\" style=\"stroke:black;stroke-width:1\" /><line x1=\"250.0\" y1=\"200.0\" x2=\"250.0\" y2=\"210.0\" stroke-linecap=\"round\" style=\"stroke:black;stroke-width:1\" /><line x1=\"250.0\" y1=\"210.0\" x2=\"250.0\" y2=\"220.0\" stroke-linecap=\"round\" style=\"stroke:black;stroke-width:1\" /><line x1=\"250.0\" y1=\"220.0\" x2=\"250.0\" y2=\"230.0\" stroke-linecap=\"round\" style=\"stroke:black;stroke-width:1\" /><line x1=\"250.0\" y1=\"230.0\" x2=\"250.0\" y2=\"240.0\" stroke-linecap=\"round\" style=\"stroke:black;stroke-width:1\" /><line x1=\"250.0\" y1=\"240.0\" x2=\"250.0\" y2=\"250.0\" stroke-linecap=\"round\" style=\"stroke:black;stroke-width:1\" />\n",
              "        \n",
              "        \n",
              "        <g id=\"turtle2\" visibility=\"visible\" transform=\"rotate(0,250.0,250.0) translate(250.0, 250.0)\">\n",
              "<polygon points=\"0,16 2,14 1,10 4,7 7,9 9,8 6,5 7,1 5,-3 8,-6 6,-8 4,-5 0,-7 -4,-5 -6,-8 -8,-6 -5,-3 -7,1 -6,5 -9,8 -7,9 -4,7 -1,10 -2,14\" transform=\"skewX(0) scale(1,1)\" style=\"stroke:black;stroke-width:1;fill:black\" />\n",
              "</g>\n",
              "      </svg>\n",
              "    "
            ]
          },
          "metadata": {}
        },
        {
          "name": "stdout",
          "output_type": "stream",
          "text": [
            "Type the size of square 100\n"
          ]
        }
      ]
    },
    {
      "cell_type": "code",
      "source": [
        "#BMI계산하기\n",
        "\n",
        "Weight = float(input(\"몸무게를 kg단위로 입력하시오:\"))\n",
        "Height = float(input(\"키를 미터단위로 입력하시오:\"))\n",
        "BMI = Weight/(Height**2)\n",
        "\n",
        "print(\"당신의 BMI=\",BMI)\n",
        "\n"
      ],
      "metadata": {
        "colab": {
          "base_uri": "https://localhost:8080/"
        },
        "id": "phT_Kr7fEu22",
        "outputId": "3d50cb02-d16f-4c40-ffc0-495327370740"
      },
      "execution_count": null,
      "outputs": [
        {
          "output_type": "stream",
          "name": "stdout",
          "text": [
            "몸무게를 kg단위로 입력하시오:63\n",
            "키를 미터단위로 입력하시오:1.77\n",
            "당신의 BMI= 20.109164033323754\n"
          ]
        }
      ]
    },
    {
      "cell_type": "code",
      "source": [
        "#반지름 계산하기\n",
        "\n",
        "r = float(input(\"반지름을 입력하시오\"))\n",
        "\n",
        "VOLUME = (4.0/3.0)*3.141592*r**3\n",
        "\n",
        "print(\"구의 부피=\",VOLUME)"
      ],
      "metadata": {
        "colab": {
          "base_uri": "https://localhost:8080/"
        },
        "id": "-alH1cOJF7JN",
        "outputId": "f206dae6-623e-476f-c46b-b84f09595552"
      },
      "execution_count": null,
      "outputs": [
        {
          "output_type": "stream",
          "name": "stdout",
          "text": [
            "반지름을 입력하시오5.0\n",
            "구의 부피= 523.5986666666666\n"
          ]
        }
      ]
    },
    {
      "cell_type": "code",
      "source": [
        "#자동 교환기 프로그램\n",
        "\n",
        "PRICE = int(input(\"물건값을 입력하시오: \"))\n",
        "note = int(input(\"1000원 지폐개수: \"))\n",
        "coin500 = int(input(\"500원 동전개수: \"))\n",
        "coin100 = int(input(\"100원 동전개수: \"))\n",
        "coin50 = int(input(\"50원 동전개수: \"))\n",
        "coin10 = int(input(\"10원 동전개수: \"))\n",
        "\n",
        "total_paid = (note * 1000) + (coin500 * 500) + (coin100 * 100)+ (coin50 * 50) + (coin10 * 10)\n",
        "my_change = total_paid - PRICE\n",
        "\n",
        "if my_change < 0:\n",
        "    print(\"돈이 부족합니다.\")\n",
        "else:\n",
        "    change1000 = my_change//1000\n",
        "    my_change = my_change %1000\n",
        "\n",
        "    change500 = my_change // 500\n",
        "    my_change = my_change % 500\n",
        "\n",
        "    change100 = my_change // 100\n",
        "    my_change = my_change % 100\n",
        "\n",
        "    change50 = my_change // 50\n",
        "    my_change = my_change % 50\n",
        "\n",
        "    change10 = my_change//100\n",
        "\n",
        "print(\"1000원 = {0}, 500원={1}, 100원={2}, 50원={3}, 10원={4}\".format(change1000,change500, change100, change50, change10))\n"
      ],
      "metadata": {
        "colab": {
          "base_uri": "https://localhost:8080/"
        },
        "id": "LBYpFw6lGclJ",
        "outputId": "02b73fd8-eeed-4ad3-daee-b126ef883598"
      },
      "execution_count": null,
      "outputs": [
        {
          "output_type": "stream",
          "name": "stdout",
          "text": [
            "물건값을 입력하시오: 1000\n",
            "1000원 지폐개수: 9\n",
            "500원 동전개수: 4\n",
            "100원 동전개수: 5\n",
            "50원 동전개수: 4\n",
            "10원 동전개수: 5\n",
            "1000원 = 10, 500원=1, 100원=2, 50원=1, 10원=0\n"
          ]
        }
      ]
    },
    {
      "cell_type": "code",
      "source": [
        "weather = input(\"날씨를 입력하시오:(맑음,비)\")\n",
        "\n",
        "if(weather == \"맑음\") :\n",
        "  print(\"오늘은 날씨가 좋습니다.\")\n",
        "else :\n",
        "  print(\"우산을 챙기시오\")"
      ],
      "metadata": {
        "colab": {
          "base_uri": "https://localhost:8080/"
        },
        "id": "zQg6Hi0qg91h",
        "outputId": "f60f2f07-d940-48a8-ac53-4e4832b48951"
      },
      "execution_count": null,
      "outputs": [
        {
          "output_type": "stream",
          "name": "stdout",
          "text": [
            "날씨를 입력하시오:(맑음,비)비\n",
            "우산을 챙기시오\n"
          ]
        }
      ]
    },
    {
      "cell_type": "code",
      "source": [
        "#초등학생들을 위하여 산수 퀴즈를 발생시키는 프로그램을 작성해보자.\n",
        "#변수 두개를 사용할것이고, 두 수를 랜덤으로 받는다.\n",
        "\n",
        "import random\n",
        "\n",
        "f1 = random.randint(1,10)\n",
        "f2 = random.randint(1,10)\n",
        "answer = int(input(f\"{f1} + {f2} =\"))\n",
        "\n",
        "if(answer == (f1 + f2)) :\n",
        "  print(\"정답입니다\")\n",
        "else : \n",
        "  print(\"틀렸습니다\")"
      ],
      "metadata": {
        "colab": {
          "base_uri": "https://localhost:8080/"
        },
        "id": "vf8TALDZjmlG",
        "outputId": "04809576-1b41-4374-80bb-ffacfb2b6be9"
      },
      "execution_count": null,
      "outputs": [
        {
          "output_type": "stream",
          "name": "stdout",
          "text": [
            "4 + 6 =10\n",
            "정답입니다\n"
          ]
        }
      ]
    },
    {
      "cell_type": "code",
      "source": [
        "price = int(input(\"물건의 가격이 얼마인가?\"))\n",
        "shipping_cost = ( 0 if price >= 20000 else 3000 )\n",
        "print(shipping_cost)"
      ],
      "metadata": {
        "colab": {
          "base_uri": "https://localhost:8080/"
        },
        "id": "fF3rHJdllzlQ",
        "outputId": "ee3d584f-e92d-498d-c0eb-3a94e39eb21b"
      },
      "execution_count": null,
      "outputs": [
        {
          "output_type": "stream",
          "name": "stdout",
          "text": [
            "물건의 가격이 얼마인가?50000\n",
            "0\n"
          ]
        }
      ]
    },
    {
      "cell_type": "code",
      "source": [
        "#사용자로부터 정수를 입력받아서 짝수인지 홀수인지를 검사하는 프로그램을 작성해보자.\n",
        "\n",
        "number = int(input(\"임의의 수 하나를 입력하시오.\"))\n",
        "\n",
        "result = number % 2 \n",
        "result = (print(\"짝수\") if  result == 0 else print(\"홀수\"))"
      ],
      "metadata": {
        "colab": {
          "base_uri": "https://localhost:8080/"
        },
        "id": "3Qdv11GZmPtM",
        "outputId": "f78de3f1-6078-4ce1-beb0-f270c14261be"
      },
      "execution_count": null,
      "outputs": [
        {
          "output_type": "stream",
          "name": "stdout",
          "text": [
            "임의의 수 하나를 입력하시오.1\n",
            "홀수\n"
          ]
        }
      ]
    },
    {
      "cell_type": "code",
      "source": [
        "#사용자로부터 정수를 입력받아서 양수인지 음수인지를 검사하는 프로그램을 작성해보자.(0은 양수이다)\n",
        "\n",
        "number = float(input(\"임의의 수 하나를 입력하시오.\"))\n",
        "if(number>=0):\n",
        "  print(\"양수입니다\")\n",
        "else:\n",
        "  print(\"음수입니다.\")"
      ],
      "metadata": {
        "colab": {
          "base_uri": "https://localhost:8080/"
        },
        "id": "QEi9TV0dm7OG",
        "outputId": "f7bae91e-2543-4e87-e12d-497c787de48b"
      },
      "execution_count": null,
      "outputs": [
        {
          "output_type": "stream",
          "name": "stdout",
          "text": [
            "임의의 수 하나를 입력하시오.1.4\n",
            "양수입니다\n"
          ]
        }
      ]
    },
    {
      "cell_type": "code",
      "source": [
        "#사용자로부터 성적을 입력받아서 60이상이면 \"합격\" 아니라면 \"불합격\"\n",
        "\n",
        "score = float(input(\"점수를 입력하시오.\"))\n",
        "if(score>=60):\n",
        "  print(\"합격입니다\")\n",
        "else:\n",
        "  print(\"불합격입니다.\")"
      ],
      "metadata": {
        "colab": {
          "base_uri": "https://localhost:8080/"
        },
        "id": "V0A_wxilnVAx",
        "outputId": "64eaa5ad-08fd-4363-8297-9a2b6d46368d"
      },
      "execution_count": null,
      "outputs": [
        {
          "output_type": "stream",
          "name": "stdout",
          "text": [
            "점수를 입력하시오.60\n",
            "합격입니다\n"
          ]
        }
      ]
    },
    {
      "cell_type": "code",
      "source": [
        "#상품의 가격이 100만원 미만이면 10% 할인이 적용된다. \n",
        "#만약 상품의 가격이 100만원 이상이면 15%의 할인이 적용된다.\n",
        "#그리고 100만원 이상의 상품을 사면 사은품이 지급된다. 100만원 미만이면 사은품은 없다.\n",
        "\n",
        "original_price = float(input(\"정가를 입력하시오.\"))\n",
        "\n",
        "if original_price >= 1000000:\n",
        "    print(\"10층에서 사은품을 받아가세요.\")\n",
        "    discounted_price = original_price * 0.85\n",
        "    print(\"할인 후 가격= \" + str(discounted_price))\n",
        "else:\n",
        "    discounted_price = original_price * 0.90\n",
        "    print(\"할인 후 가격= \" + str(discounted_price))\n"
      ],
      "metadata": {
        "colab": {
          "base_uri": "https://localhost:8080/"
        },
        "id": "PFo5SIydnp5B",
        "outputId": "c2ed3a41-93bc-4b87-f3cb-3253b378d168"
      },
      "execution_count": null,
      "outputs": [
        {
          "output_type": "stream",
          "name": "stdout",
          "text": [
            "정가를 입력하시오.800000\n",
            "할인 후 가격= 720000.0\n"
          ]
        }
      ]
    },
    {
      "cell_type": "code",
      "source": [
        "#파이썬에서는 100<A<1000 도 가능하다!\n",
        "\n",
        "price = int(input(\"가격을 입력하시오: \"))\n",
        "if (10000 < price < 20000): \n",
        "  print(\"배송료가 없습니다.\")\n",
        "else:\n",
        "  print(\"배송료는 3000원입니다.\")"
      ],
      "metadata": {
        "colab": {
          "base_uri": "https://localhost:8080/"
        },
        "id": "uVObJD-rpeDU",
        "outputId": "f6741fb5-c79e-4073-feb1-994a7e1b640c"
      },
      "execution_count": null,
      "outputs": [
        {
          "output_type": "stream",
          "name": "stdout",
          "text": [
            "가격을 입력하시오: 15000\n",
            "배송료가 없습니다.\n"
          ]
        }
      ]
    },
    {
      "cell_type": "code",
      "source": [
        "# 이 프로그램은 온도에 따른 물의 상태를 출력한다. #\n",
        "temp = float(input(\"온도를 입력하시오: \"))\n",
        "if temp <= 0 :\n",
        "  print(\"물의 상태는 얼음입니다.\")\n",
        "\n",
        "elif temp < 100 : # 논리 연산자를 사용한다. \n",
        "  print(\"물의 상태는 \u001f액체입니다.\")\n",
        "\n",
        "else :\n",
        "  print(\"물의 상태는 \n",
        "기체입니다.\")"
      ],
      "metadata": {
        "colab": {
          "base_uri": "https://localhost:8080/"
        },
        "id": "NCaaAb7tqJKH",
        "outputId": "00a432e0-652b-42b1-fbf3-ddef0df94782"
      },
      "execution_count": null,
      "outputs": [
        {
          "output_type": "stream",
          "name": "stdout",
          "text": [
            "온도를 입력하시오: 101\n",
            "물의 상태는 \u001e기체입니다.\n"
          ]
        }
      ]
    },
    {
      "cell_type": "code",
      "source": [
        "#동전을 던지기 게임을 작성해보자.\n",
        "#동전 던지기 게임을 시작합니다. 뒷면입니다.\n",
        "#게임이 종료되었습니다.\n",
        "\n",
        "import random\n",
        "print(\"동전 던지기 게임을 시작합니다\")\n",
        "\n",
        "p1_health = 5\n",
        "p2_health = 5\n",
        "\n",
        "coin_case = random.randint(0,1)\n",
        "\n",
        "p1_answer = int(input(\"당신이 선택한 면은? 1은 앞면, 0 은 뒷면\"))\n",
        "\n",
        "if(int(input(p1_answer == coin_case))):\n",
        "  p2_health = p2_health-1\n",
        "\n",
        "if(coin_case == 1 ) :\n",
        "  print(\"앞면입니다\")\n",
        "else : \n",
        "  print(\"뒷면입니다\")"
      ],
      "metadata": {
        "colab": {
          "base_uri": "https://localhost:8080/"
        },
        "id": "IWCjD8VDs7-3",
        "outputId": "86ed4522-0efa-49ab-eb06-c56550014284"
      },
      "execution_count": null,
      "outputs": [
        {
          "output_type": "stream",
          "name": "stdout",
          "text": [
            "동전 던지기 게임을 시작합니다\n",
            "당신이 선택한 면은? 1은 앞면, 0 은 뒷면0\n",
            "False0\n",
            "앞면입니다\n"
          ]
        }
      ]
    },
    {
      "cell_type": "code",
      "source": [
        "import ColabTurtlePlus.Turtle as t\n",
        "t.clearscreen()\n",
        "t.shape(\"turtle2\")\n",
        "t.width(1)\n",
        "\n",
        "while True:\n",
        "  user_command = input(\"명령을 입력하세요:\")\n",
        "  if(user_command == \"l\" or user_command ==\"left\" or user_command ==\"L\"):\n",
        "    t.left(15)\n",
        "    t.forward(10)\n",
        "  if(user_command == \"r\" or \"right\" or \"R\"):\n",
        "    t.right(15)\n",
        "    t.forward(10)\n",
        "  if(user_command == \"stop\" or \"s\" or \"Stop\"):\n",
        "    break\n",
        "  "
      ],
      "metadata": {
        "id": "I2x6y6B8vXLh"
      },
      "execution_count": null,
      "outputs": []
    },
    {
      "cell_type": "markdown",
      "source": [
        "## 2023/03/21 Python Programmig *시험* **굵은 텍스트**"
      ],
      "metadata": {
        "id": "bubIIoBf8d-Z"
      }
    },
    {
      "cell_type": "code",
      "source": [
        "# Quiz01. 조건에 따른 택시 승객 매칭 프로그램\n",
        "# 당신이 택시 기사라고 가정했을 때 20명의 승객과 매칭 기회가 있을 때, 총 탑승 승객 수\n",
        "# 조건1 : 승객별 운행 소요 시간은 5분 ~ 50분 사이의 난수로 정해집니다.\n",
        "# 조건2 : 당신은 소요 시간 5분 ~ 15분 사이의 승객만 매칭해야 합니다.\n",
        "\n",
        "from random import *\n",
        "\n",
        "# 승객 수\n",
        "cnt = 0 \n",
        "\n",
        "# 승객 20명에 대한 반복문 \n",
        "for i in range(1,21): \n",
        "    temp = randint(5,50) #소요시간을 5~50분 사이로 랜덤하게 발생시키기\n",
        "    \n",
        "    if (5<=temp<=15) : #조건 2 : 5분 ~ 15분 사이의 승객만 매칭 \n",
        "       print(\"[O] {0}번째 손님 매칭 (소요시간 : {1}분)\".format(f\"{i}\",temp))\n",
        "       cnt = cnt + 1\n",
        "\n",
        "# 승객 수 카운팅\n",
        "    else:\n",
        "       print(\"[ ] {0}번째 손님 매칭 안됨 (소요시간 : {1}분)\".format(f\"{i}\",temp))\n",
        "   \n",
        "# 최종 승객 수 출력\n",
        "print(\"총 탑승 승객 : {0} 명\".format(f\"{cnt}\")) "
      ],
      "metadata": {
        "colab": {
          "base_uri": "https://localhost:8080/"
        },
        "id": "QRwLWwCg8m_B",
        "outputId": "1cada6ee-812e-4427-8a87-2e2efa4ebc4b"
      },
      "execution_count": null,
      "outputs": [
        {
          "output_type": "stream",
          "name": "stdout",
          "text": [
            "[ ] 1번째 손님 매칭 안됨 (소요시간 : 21분)\n",
            "[ ] 2번째 손님 매칭 안됨 (소요시간 : 46분)\n",
            "[ ] 3번째 손님 매칭 안됨 (소요시간 : 19분)\n",
            "[ ] 4번째 손님 매칭 안됨 (소요시간 : 28분)\n",
            "[ ] 5번째 손님 매칭 안됨 (소요시간 : 46분)\n",
            "[ ] 6번째 손님 매칭 안됨 (소요시간 : 16분)\n",
            "[O] 7번째 손님 매칭 (소요시간 : 12분)\n",
            "[ ] 8번째 손님 매칭 안됨 (소요시간 : 21분)\n",
            "[O] 9번째 손님 매칭 (소요시간 : 5분)\n",
            "[ ] 10번째 손님 매칭 안됨 (소요시간 : 22분)\n",
            "[ ] 11번째 손님 매칭 안됨 (소요시간 : 23분)\n",
            "[ ] 12번째 손님 매칭 안됨 (소요시간 : 38분)\n",
            "[ ] 13번째 손님 매칭 안됨 (소요시간 : 20분)\n",
            "[O] 14번째 손님 매칭 (소요시간 : 12분)\n",
            "[ ] 15번째 손님 매칭 안됨 (소요시간 : 25분)\n",
            "[ ] 16번째 손님 매칭 안됨 (소요시간 : 30분)\n",
            "[ ] 17번째 손님 매칭 안됨 (소요시간 : 28분)\n",
            "[ ] 18번째 손님 매칭 안됨 (소요시간 : 34분)\n",
            "[ ] 19번째 손님 매칭 안됨 (소요시간 : 22분)\n",
            "[ ] 20번째 손님 매칭 안됨 (소요시간 : 39분)\n",
            "총 탑승 승객 : 3 명\n"
          ]
        }
      ]
    },
    {
      "cell_type": "code",
      "source": [
        "while True:\n",
        "    score_input = input(\"점수를 입력하시오: \")\n",
        "    if score_input == \"q\":\n",
        "        break\n",
        "    elif not score_input.isdigit():\n",
        "        print(\"정수를 입력해주세요.\")\n",
        "    else:\n",
        "        score = int(score_input)\n",
        "        if score < 0 or score > 100:\n",
        "            print(\"0과 100 사이의 정수를 입력해주세요.\")\n",
        "        elif score >= 90:\n",
        "            print(\"A\")\n",
        "        elif score >= 80:\n",
        "            print(\"B\")\n",
        "        elif score >= 70:\n",
        "            print(\"C\")\n",
        "        elif score >= 60:\n",
        "            print(\"D\")\n",
        "        else:\n",
        "            print(\"F\")\n"
      ],
      "metadata": {
        "id": "bVT5nU-KJZSc",
        "colab": {
          "base_uri": "https://localhost:8080/"
        },
        "outputId": "7acccd7b-c9b1-4d12-8d59-62f54f7060d2"
      },
      "execution_count": null,
      "outputs": [
        {
          "name": "stdout",
          "output_type": "stream",
          "text": [
            "점수를 입력하시오: 1\n",
            "F\n",
            "점수를 입력하시오: 2\n",
            "F\n",
            "점수를 입력하시오: 3\n",
            "F\n",
            "점수를 입력하시오: a\n",
            "정수를 입력해주세요.\n",
            "점수를 입력하시오: a\n",
            "정수를 입력해주세요.\n",
            "점수를 입력하시오: 100\n",
            "A\n",
            "점수를 입력하시오: 101\n",
            "0과 100 사이의 정수를 입력해주세요.\n",
            "점수를 입력하시오: 100\n",
            "A\n",
            "점수를 입력하시오: 1\n",
            "F\n",
            "점수를 입력하시오: 0\n",
            "F\n",
            "점수를 입력하시오: -1\n",
            "정수를 입력해주세요.\n",
            "점수를 입력하시오: 0\n",
            "F\n",
            "점수를 입력하시오: a\n",
            "정수를 입력해주세요.\n",
            "점수를 입력하시오: q\n"
          ]
        }
      ]
    },
    {
      "cell_type": "code",
      "source": [
        "print(\"\"\"\n",
        "======================== \n",
        "메뉴 1번: 치즈 버거\n",
        "메뉴 2번: 치킨 버거\n",
        "메뉴 3번: 불고기 버거 \n",
        "========================\n",
        "\"\"\")\n",
        "\n",
        "while True:\n",
        "    Mselection_input = input(\"메뉴를 선택하세요: \")\n",
        "    if Mselection_input == \"q\":\n",
        "        print(\"메뉴 안내를 종료합니다.\")\n",
        "        break\n",
        "    elif not Mselection_input.isdigit():\n",
        "        print(\"올바른 메뉴를 입력해주세요.\")\n",
        "    else:\n",
        "        Mselection_input = int(Mselection_input)\n",
        "        if Mselection_input < 1 or Mselection_input > 3:\n",
        "          print(\"1과 3 사이의 정수를 입력해주세요.\")\n",
        "        elif Mselection_input == 1:\n",
        "          print(\"치즈버거를 선택하였습니다\")\n",
        "        elif Mselection_input == 2:\n",
        "          print(\"치킨버거를 선택하였습니다\")\n",
        "        else:\n",
        "           print(\"불고기버거를 선택하였습니다\")"
      ],
      "metadata": {
        "colab": {
          "base_uri": "https://localhost:8080/"
        },
        "id": "15DrD_AKi4qG",
        "outputId": "bbdad77e-9983-40db-cc04-24374b30a2eb"
      },
      "execution_count": null,
      "outputs": [
        {
          "output_type": "stream",
          "name": "stdout",
          "text": [
            "\n",
            "======================== \n",
            "메뉴 1번: 치즈 버거\n",
            "메뉴 2번: 치킨 버거\n",
            "메뉴 3번: 불고기 버거 \n",
            "========================\n",
            "\n",
            "메뉴를 선택하세요: q\n",
            "메뉴 안내를 종료합니다.\n"
          ]
        }
      ]
    },
    {
      "cell_type": "code",
      "source": [
        "myList = [1,2,3,4,5]\n",
        "print(myList)\n",
        "\n",
        "myList[0] = 0\n",
        "print(myList)\n",
        "\n",
        "myList.append(9)\n",
        "print(myList)\n",
        "\n",
        "myList[-1] = 99\n",
        "print(myList)\n",
        "\n",
        "for i in myList :\n",
        "  print(\"[\",i,\"]\")\n",
        "\n",
        "for i in range(5) :\n",
        "  print(\"[\",i,\"]번째\")"
      ],
      "metadata": {
        "colab": {
          "base_uri": "https://localhost:8080/"
        },
        "id": "GxYcmLm3mE_d",
        "outputId": "5c7bb1c7-0e21-43ab-ed0f-2070a6e37262"
      },
      "execution_count": null,
      "outputs": [
        {
          "output_type": "stream",
          "name": "stdout",
          "text": [
            "[1, 2, 3, 4, 5]\n",
            "[0, 2, 3, 4, 5]\n",
            "[0, 2, 3, 4, 5, 9]\n",
            "[0, 2, 3, 4, 5, 99]\n",
            "[ 0 ]\n",
            "[ 2 ]\n",
            "[ 3 ]\n",
            "[ 4 ]\n",
            "[ 5 ]\n",
            "[ 99 ]\n",
            "[ 0 ]번째\n",
            "[ 1 ]번째\n",
            "[ 2 ]번째\n",
            "[ 3 ]번째\n",
            "[ 4 ]번째\n"
          ]
        }
      ]
    },
    {
      "cell_type": "code",
      "source": [
        "for i in range(10, 0, -2): print(i, end=\" \")"
      ],
      "metadata": {
        "colab": {
          "base_uri": "https://localhost:8080/"
        },
        "id": "g4NDnNDOoDuQ",
        "outputId": "9ab43600-abb3-4ae3-f204-419e2045a760"
      },
      "execution_count": null,
      "outputs": [
        {
          "output_type": "stream",
          "name": "stdout",
          "text": [
            "10 8 6 4 2 "
          ]
        }
      ]
    },
    {
      "cell_type": "code",
      "source": [
        "for i in range(1,10,2): print(i, end=\" \")"
      ],
      "metadata": {
        "colab": {
          "base_uri": "https://localhost:8080/"
        },
        "id": "tnyRSOUsokR-",
        "outputId": "35bbd76c-3a14-4d9a-83bb-87d3c290ed9c"
      },
      "execution_count": null,
      "outputs": [
        {
          "output_type": "stream",
          "name": "stdout",
          "text": [
            "1 3 5 7 9 "
          ]
        }
      ]
    },
    {
      "cell_type": "code",
      "source": [
        "num = input(\"n까지의 모든 수의 합을 알려드릴게요: \")\n",
        "num = int(num)\n",
        "\n",
        "total_sum = 0\n",
        "for i in range(1, num+1):\n",
        "  total_sum += i\n",
        "\n",
        "print(total_sum)\n"
      ],
      "metadata": {
        "colab": {
          "base_uri": "https://localhost:8080/"
        },
        "id": "lt61NpGxoljy",
        "outputId": "94300d9c-d5d7-48cd-b7e0-ff3188e6c8c6"
      },
      "execution_count": null,
      "outputs": [
        {
          "output_type": "stream",
          "name": "stdout",
          "text": [
            "n까지의 모든 수의 합을 알려드릴게요: 98\n",
            "4851\n"
          ]
        }
      ]
    },
    {
      "cell_type": "code",
      "source": [
        "num = int(input(\"n까지의 모든 수의 곱을 알려드릴게요(factorial): \"))\n",
        "\n",
        "result = 1\n",
        "for i in range(1, num+1):\n",
        "  result *= i\n",
        "\n",
        "print(result)\n"
      ],
      "metadata": {
        "colab": {
          "base_uri": "https://localhost:8080/"
        },
        "id": "bYUnAbh2rNBA",
        "outputId": "af462d52-833d-40ef-975f-0227cc4a5419"
      },
      "execution_count": null,
      "outputs": [
        {
          "output_type": "stream",
          "name": "stdout",
          "text": [
            "n까지의 모든 수의 곱을 알려드릴게요(factorial): 5\n",
            "120\n"
          ]
        }
      ]
    },
    {
      "cell_type": "code",
      "source": [
        "!pip3 install ColabTurtlePlus"
      ],
      "metadata": {
        "id": "8e0F_6Q-r5uD"
      },
      "execution_count": null,
      "outputs": []
    },
    {
      "cell_type": "code",
      "source": [
        "import ColabTurtlePlus.Turtle as t\n",
        "\n",
        "t.clearscreen\n",
        "\n",
        "t.shape(\"turtle\")\n",
        "\n",
        "user_input = int(input(\"몇각형을 원하시나요?\")) \n",
        "\n",
        "for i in range(user_input):\n",
        "  t.forward(30)\n",
        "  t.left(360/user_input)\n"
      ],
      "metadata": {
        "id": "MBz-lLXrsmSe"
      },
      "execution_count": null,
      "outputs": []
    },
    {
      "cell_type": "code",
      "source": [
        "# 목표 금액 # 초기 자금\n",
        "# 연도\n",
        "# 이자율\n",
        "# 현재 금액이 목표 금액보다 작으면 반복한다. \n",
        "TARGET = 2000\n",
        "money = 1000\n",
        "year = 0\n",
        "rate = 0.07\n",
        "\n",
        "while not(money > TARGET) :\n",
        "  money = money + (money * rate) \n",
        "  year = year + 1\n",
        "\n",
        "print(year, \"년\")"
      ],
      "metadata": {
        "colab": {
          "base_uri": "https://localhost:8080/"
        },
        "id": "6yTJYDJyuQdt",
        "outputId": "01736904-d8f4-4723-c823-a34f9ea549e3"
      },
      "execution_count": null,
      "outputs": [
        {
          "output_type": "stream",
          "name": "stdout",
          "text": [
            "11 년\n"
          ]
        }
      ]
    },
    {
      "cell_type": "code",
      "source": [
        "# 무한 루프의 예\n",
        "i = 0\n",
        "# 변수 i를 증가시키는 부분이 없어서 무한루프가 된다.\n",
        "while i < 10 :\n",
        "  print(\"Hello!\")\n",
        "  i += 1"
      ],
      "metadata": {
        "id": "qZ3jvKhLvgD8"
      },
      "execution_count": null,
      "outputs": []
    },
    {
      "cell_type": "code",
      "source": [
        "user_input = int(input(\"원하는 단은:\"))\n",
        "\n",
        "for i in range (1, user_input+1):\n",
        "  print(user_input,\"*\",i,\"=\",user_input * i)"
      ],
      "metadata": {
        "colab": {
          "base_uri": "https://localhost:8080/"
        },
        "id": "5vLMy-fCv630",
        "outputId": "6fbc3254-0d3a-4019-c087-90ba728f6e8a"
      },
      "execution_count": null,
      "outputs": [
        {
          "output_type": "stream",
          "name": "stdout",
          "text": [
            "원하는 단은:11\n",
            "11 * 1 = 11\n",
            "11 * 2 = 22\n",
            "11 * 3 = 33\n",
            "11 * 4 = 44\n",
            "11 * 5 = 55\n",
            "11 * 6 = 66\n",
            "11 * 7 = 77\n",
            "11 * 8 = 88\n",
            "11 * 9 = 99\n",
            "11 * 10 = 110\n",
            "11 * 11 = 121\n"
          ]
        }
      ]
    },
    {
      "cell_type": "code",
      "source": [
        "from random import *\n",
        "\n",
        "result = randint(1,10)\n",
        "user_count = 0;\n",
        "guess = 0;\n",
        "print(\"1 부터 100까지의 숫자를 맞춰보시오.\")\n",
        "\n",
        "while (user_guess != result):\n",
        "  guess = int(input(\"숫자를 입력하시오:\"))\n",
        "  user_count += 1\n",
        "\n",
        "  if (guess < result):\n",
        "    print(\"숫자가 너무 낮습니다.\")\n",
        "\n",
        "  elif (guess > result):\n",
        "    print(\"숫자가 너무 높습니다.\")\n",
        "\n",
        "print(guess)"
      ],
      "metadata": {
        "id": "f8RAku5FyM5w"
      },
      "execution_count": null,
      "outputs": []
    },
    {
      "cell_type": "code",
      "source": [
        "park_times = [80, 130, 30, 230, 40] # 차량 5 대에 대한 주차 시간(분 단위) 리스트\n",
        "free_time = 30 # 무료 주차 시간 (분 단위)\n",
        "base_fee = 2000 # 기본 요금\n",
        "extra_fee_rate = 500 # 추가 요금 비율 (10 분당 500 원)\n",
        "total_fees = [] # 총 주차 요금 리스트 초기화\n",
        "max_fee = 20000 # 최대 요금\n",
        "\n",
        "for park_time in park_times: # 각 차량의 주차 시간에 대해 계산\n",
        "    if park_time < free_time: #for문의 변수 설정이 i가 아닌 park로 설정되있어 조금 헤맸습니다 &30분에 대한 차량에 요금청구가 이해가 안갑니다.\n",
        "        total_fee = 0\n",
        "    else:\n",
        "        total_fee = base_fee + ( ((park_time - free_time) // 10) * extra_fee_rate )\n",
        "        total_fee = total_fee if total_fee <= max_fee else max_fee #삼항연산식\n",
        "        #total_fee = min(total_fee, max_fee) min함수를 이용한 간단식\n",
        "    \n",
        "    total_fees.append(total_fee) # 사이즈가 정해지지 않은 total_fees배열에 append함수를 사용하여 배열을 채움.\n",
        "\n",
        "print(f\"주차 요금: {total_fees}원\")"
      ],
      "metadata": {
        "colab": {
          "base_uri": "https://localhost:8080/"
        },
        "id": "OGqnHPch5PVg",
        "outputId": "66fb514e-4c76-4c17-db10-fff91907b498"
      },
      "execution_count": 7,
      "outputs": [
        {
          "output_type": "stream",
          "name": "stdout",
          "text": [
            "주차 요금: [4500, 7000, 2000, 12000, 2500]원\n"
          ]
        }
      ]
    }
  ]
}