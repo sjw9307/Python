{
  "nbformat": 4,
  "nbformat_minor": 0,
  "metadata": {
    "colab": {
      "provenance": [],
      "authorship_tag": "ABX9TyM4BwgZ3rPa0Ul6eGPueQJd",
      "include_colab_link": true
    },
    "kernelspec": {
      "name": "python3",
      "display_name": "Python 3"
    },
    "language_info": {
      "name": "python"
    }
  },
  "cells": [
    {
      "cell_type": "markdown",
      "metadata": {
        "id": "view-in-github",
        "colab_type": "text"
      },
      "source": [
        "<a href=\"https://colab.research.google.com/github/sjw9307/Python/blob/main/Lab_prac.ipynb\" target=\"_parent\"><img src=\"https://colab.research.google.com/assets/colab-badge.svg\" alt=\"Open In Colab\"/></a>"
      ]
    },
    {
      "cell_type": "code",
      "source": [
        "import math\n",
        "math.sqrt(9.0)"
      ],
      "metadata": {
        "colab": {
          "base_uri": "https://localhost:8080/"
        },
        "id": "CsLyskUh51nB",
        "outputId": "7a7886ca-e9e4-4b53-e837-7e420164fcaa"
      },
      "execution_count": null,
      "outputs": [
        {
          "output_type": "execute_result",
          "data": {
            "text/plain": [
              "3.0"
            ]
          },
          "metadata": {},
          "execution_count": 16
        }
      ]
    },
    {
      "cell_type": "code",
      "source": [
        "\"mon\" + \"chat\"\n",
        "\n",
        "(\"mon\" + \"chat \") *5"
      ],
      "metadata": {
        "colab": {
          "base_uri": "https://localhost:8080/",
          "height": 36
        },
        "id": "DKRxEjaD8IUl",
        "outputId": "f1e4b2a2-719f-4c3a-f06f-0e87b5b627c1"
      },
      "execution_count": null,
      "outputs": [
        {
          "output_type": "execute_result",
          "data": {
            "text/plain": [
              "'monchat monchat monchat monchat monchat '"
            ],
            "application/vnd.google.colaboratory.intrinsic+json": {
              "type": "string"
            }
          },
          "metadata": {},
          "execution_count": 14
        }
      ]
    },
    {
      "cell_type": "code",
      "source": [
        "a = 10\n",
        "A = 100\n",
        "print(a)\n",
        "print(A)"
      ],
      "metadata": {
        "colab": {
          "base_uri": "https://localhost:8080/"
        },
        "id": "N8p_JbGM8_md",
        "outputId": "2fe465d7-4b20-4002-afc3-22b833408125"
      },
      "execution_count": null,
      "outputs": [
        {
          "output_type": "stream",
          "name": "stdout",
          "text": [
            "10\n",
            "100\n"
          ]
        }
      ]
    },
    {
      "cell_type": "code",
      "source": [
        "print(\"python has connection fonction as well\", 1,\"like\" , \"this\" , 1)"
      ],
      "metadata": {
        "colab": {
          "base_uri": "https://localhost:8080/"
        },
        "id": "UajDeHWd-xoT",
        "outputId": "7f88c3d3-bbc6-44b7-edda-d7d257e6843d"
      },
      "execution_count": null,
      "outputs": [
        {
          "output_type": "stream",
          "name": "stdout",
          "text": [
            "python has connection fonction as well 1 like this 1\n"
          ]
        }
      ]
    },
    {
      "cell_type": "code",
      "source": [
        "print(\"python has conection fonction has well \" + str(1) + \" like this\")"
      ],
      "metadata": {
        "colab": {
          "base_uri": "https://localhost:8080/"
        },
        "id": "7hdw6y3Y_NzL",
        "outputId": "02782a7e-3c62-43fd-f86b-56f493385f11"
      },
      "execution_count": null,
      "outputs": [
        {
          "output_type": "stream",
          "name": "stdout",
          "text": [
            "pyhthon has conection fonction has well 1 like this\n"
          ]
        }
      ]
    },
    {
      "cell_type": "code",
      "source": [
        "print(\"3*1 =\", 3*1)\n",
        "print(\"3*2 =\", 3*2)\n",
        "print(\"3*3 =\", 3*3)\n"
      ],
      "metadata": {
        "colab": {
          "base_uri": "https://localhost:8080/"
        },
        "id": "l-278cbU_dh9",
        "outputId": "6e8e28c1-ad40-4605-b416-90799ddb6ad0"
      },
      "execution_count": null,
      "outputs": [
        {
          "output_type": "stream",
          "name": "stdout",
          "text": [
            "3*1 = 3\n",
            "3*2 = 6\n",
            "3*3 = 9\n"
          ]
        }
      ]
    },
    {
      "cell_type": "code",
      "source": [
        "print(\"hi, 👋  python\")"
      ],
      "metadata": {
        "colab": {
          "base_uri": "https://localhost:8080/"
        },
        "id": "f8ndb_qQ5-eq",
        "outputId": "05bdcb59-7747-4a57-d214-fc73065d52cb"
      },
      "execution_count": null,
      "outputs": [
        {
          "output_type": "stream",
          "name": "stdout",
          "text": [
            "hi, 👋  python\n"
          ]
        }
      ]
    },
    {
      "cell_type": "code",
      "source": [
        "!pip3 install ColabTurtle"
      ],
      "metadata": {
        "id": "6a2-ZFkcAhNG",
        "colab": {
          "base_uri": "https://localhost:8080/"
        },
        "outputId": "a2e9d1fb-03d8-4143-d593-1d4469e8cbcf"
      },
      "execution_count": 2,
      "outputs": [
        {
          "output_type": "stream",
          "name": "stdout",
          "text": [
            "Looking in indexes: https://pypi.org/simple, https://us-python.pkg.dev/colab-wheels/public/simple/\n",
            "Collecting ColabTurtle\n",
            "  Downloading ColabTurtle-2.1.0.tar.gz (6.8 kB)\n",
            "  Preparing metadata (setup.py) ... \u001b[?25l\u001b[?25hdone\n",
            "Building wheels for collected packages: ColabTurtle\n",
            "  Building wheel for ColabTurtle (setup.py) ... \u001b[?25l\u001b[?25hdone\n",
            "  Created wheel for ColabTurtle: filename=ColabTurtle-2.1.0-py3-none-any.whl size=7656 sha256=c2e3aa747dc778f30937bfc2ff4e2c3c58221459e13d0b40d869c802d5da1369\n",
            "  Stored in directory: /root/.cache/pip/wheels/a8/ab/ce/4aca5e858d2561104f45e6164390067231381836678b908064\n",
            "Successfully built ColabTurtle\n",
            "Installing collected packages: ColabTurtle\n",
            "Successfully installed ColabTurtle-2.1.0\n"
          ]
        }
      ]
    },
    {
      "cell_type": "code",
      "source": [
        "import ColabTurtle.Turtle as t\n",
        "t.initializeTurtle(initial_speed = 5)\n",
        "print(\"Question : make a square\")\n",
        "t.color(\"Red\")\n",
        "t.forward(100)\n",
        "t.right(90)\n",
        "t.forward(100)\n",
        "t.right(90)\n",
        "t.forward(100)\n",
        "t.right(90)\n",
        "t.forward(100)"
      ],
      "metadata": {
        "colab": {
          "base_uri": "https://localhost:8080/",
          "height": 540
        },
        "id": "lHRSvwqkAzMG",
        "outputId": "c9f04040-2e10-4643-882c-4701e4c03756"
      },
      "execution_count": null,
      "outputs": [
        {
          "output_type": "display_data",
          "data": {
            "text/plain": [
              "<IPython.core.display.HTML object>"
            ],
            "text/html": [
              "\n",
              "      <svg width=\"800\" height=\"500\">\n",
              "        <rect width=\"100%\" height=\"100%\" fill=\"black\"/>\n",
              "        <line x1=\"400\" y1=\"250\" x2=\"400.0\" y2=\"150.0\" stroke-linecap=\"round\" style=\"stroke:red;stroke-width:4\"/><line x1=\"400.0\" y1=\"150.0\" x2=\"500.0\" y2=\"150.0\" stroke-linecap=\"round\" style=\"stroke:red;stroke-width:4\"/><line x1=\"500.0\" y1=\"150.0\" x2=\"500.0\" y2=\"250.0\" stroke-linecap=\"round\" style=\"stroke:red;stroke-width:4\"/><line x1=\"500.0\" y1=\"250.0\" x2=\"400.0\" y2=\"250.0\" stroke-linecap=\"round\" style=\"stroke:red;stroke-width:4\"/>\n",
              "        <g visibility=visible transform=\"rotate(270,400.0,250.0) translate(382.0, 232.0)\">\n",
              "<path style=\" stroke:none;fill-rule:evenodd;fill:red;fill-opacity:1;\" d=\"M 18.214844 0.632812 C 16.109375 1.800781 15.011719 4.074219 15.074219 7.132812 L 15.085938 7.652344 L 14.785156 7.496094 C 13.476562 6.824219 11.957031 6.671875 10.40625 7.066406 C 8.46875 7.550781 6.515625 9.15625 4.394531 11.992188 C 3.0625 13.777344 2.679688 14.636719 3.042969 15.027344 L 3.15625 15.152344 L 3.519531 15.152344 C 4.238281 15.152344 4.828125 14.886719 8.1875 13.039062 C 9.386719 12.378906 10.371094 11.839844 10.378906 11.839844 C 10.386719 11.839844 10.355469 11.929688 10.304688 12.035156 C 9.832031 13.09375 9.257812 14.820312 8.96875 16.078125 C 7.914062 20.652344 8.617188 24.53125 11.070312 27.660156 C 11.351562 28.015625 11.363281 27.914062 10.972656 28.382812 C 8.925781 30.84375 7.945312 33.28125 8.238281 35.1875 C 8.289062 35.527344 8.28125 35.523438 8.917969 35.523438 C 10.941406 35.523438 13.074219 34.207031 15.136719 31.6875 C 15.359375 31.417969 15.328125 31.425781 15.5625 31.574219 C 16.292969 32.042969 18.023438 32.964844 18.175781 32.964844 C 18.335938 32.964844 19.941406 32.210938 20.828125 31.71875 C 20.996094 31.625 21.136719 31.554688 21.136719 31.558594 C 21.203125 31.664062 21.898438 32.414062 22.222656 32.730469 C 23.835938 34.300781 25.5625 35.132812 27.582031 35.300781 C 27.90625 35.328125 27.9375 35.308594 28.007812 34.984375 C 28.382812 33.242188 27.625 30.925781 25.863281 28.425781 L 25.542969 27.96875 L 25.699219 27.785156 C 28.945312 23.960938 29.132812 18.699219 26.257812 11.96875 L 26.207031 11.84375 L 27.945312 12.703125 C 31.53125 14.476562 32.316406 14.800781 33.03125 14.800781 C 33.976562 14.800781 33.78125 13.9375 32.472656 12.292969 C 28.519531 7.355469 25.394531 5.925781 21.921875 7.472656 L 21.558594 7.636719 L 21.578125 7.542969 C 21.699219 6.992188 21.761719 5.742188 21.699219 5.164062 C 21.496094 3.296875 20.664062 1.964844 19.003906 0.855469 C 18.480469 0.503906 18.457031 0.5 18.214844 0.632812\"/>\n",
              "</g>\n",
              "      </svg>\n",
              "    "
            ]
          },
          "metadata": {}
        },
        {
          "output_type": "stream",
          "name": "stdout",
          "text": [
            "Question : make a square\n"
          ]
        }
      ]
    },
    {
      "cell_type": "code",
      "source": [
        "import ColabTurtle.Turtle as t\n",
        "t.initializeTurtle(initial_speed = 5)\n",
        "print(\"Question : make a triangle\")\n",
        "t.color(\"Blue\")\n",
        "\n",
        "t.forward(100)\n",
        "t.right(120)\n",
        "t.forward(100)\n",
        "t.right(120)\n",
        "t.forward(100)\n",
        "\n",
        "t.right(60)\n",
        "t.forward(100)\n",
        "t.right(120)\n",
        "t.forward(100)"
      ],
      "metadata": {
        "colab": {
          "base_uri": "https://localhost:8080/",
          "height": 540
        },
        "id": "VytmxXV-CgTw",
        "outputId": "b6de12e4-54cc-4ee0-d2aa-636a244c29b0"
      },
      "execution_count": null,
      "outputs": [
        {
          "output_type": "display_data",
          "data": {
            "text/plain": [
              "<IPython.core.display.HTML object>"
            ],
            "text/html": [
              "\n",
              "      <svg width=\"800\" height=\"500\">\n",
              "        <rect width=\"100%\" height=\"100%\" fill=\"black\"/>\n",
              "        <line x1=\"400\" y1=\"250\" x2=\"400.0\" y2=\"150.0\" stroke-linecap=\"round\" style=\"stroke:blue;stroke-width:4\"/><line x1=\"400.0\" y1=\"150.0\" x2=\"486.603\" y2=\"200.0\" stroke-linecap=\"round\" style=\"stroke:blue;stroke-width:4\"/><line x1=\"486.603\" y1=\"200.0\" x2=\"400.0\" y2=\"250.0\" stroke-linecap=\"round\" style=\"stroke:blue;stroke-width:4\"/><line x1=\"400.0\" y1=\"250.0\" x2=\"313.397\" y2=\"200.0\" stroke-linecap=\"round\" style=\"stroke:blue;stroke-width:4\"/><line x1=\"313.397\" y1=\"200.0\" x2=\"400.0\" y2=\"150.0\" stroke-linecap=\"round\" style=\"stroke:blue;stroke-width:4\"/>\n",
              "        <g visibility=visible transform=\"rotate(420,400.0,150.0) translate(382.0, 132.0)\">\n",
              "<path style=\" stroke:none;fill-rule:evenodd;fill:blue;fill-opacity:1;\" d=\"M 18.214844 0.632812 C 16.109375 1.800781 15.011719 4.074219 15.074219 7.132812 L 15.085938 7.652344 L 14.785156 7.496094 C 13.476562 6.824219 11.957031 6.671875 10.40625 7.066406 C 8.46875 7.550781 6.515625 9.15625 4.394531 11.992188 C 3.0625 13.777344 2.679688 14.636719 3.042969 15.027344 L 3.15625 15.152344 L 3.519531 15.152344 C 4.238281 15.152344 4.828125 14.886719 8.1875 13.039062 C 9.386719 12.378906 10.371094 11.839844 10.378906 11.839844 C 10.386719 11.839844 10.355469 11.929688 10.304688 12.035156 C 9.832031 13.09375 9.257812 14.820312 8.96875 16.078125 C 7.914062 20.652344 8.617188 24.53125 11.070312 27.660156 C 11.351562 28.015625 11.363281 27.914062 10.972656 28.382812 C 8.925781 30.84375 7.945312 33.28125 8.238281 35.1875 C 8.289062 35.527344 8.28125 35.523438 8.917969 35.523438 C 10.941406 35.523438 13.074219 34.207031 15.136719 31.6875 C 15.359375 31.417969 15.328125 31.425781 15.5625 31.574219 C 16.292969 32.042969 18.023438 32.964844 18.175781 32.964844 C 18.335938 32.964844 19.941406 32.210938 20.828125 31.71875 C 20.996094 31.625 21.136719 31.554688 21.136719 31.558594 C 21.203125 31.664062 21.898438 32.414062 22.222656 32.730469 C 23.835938 34.300781 25.5625 35.132812 27.582031 35.300781 C 27.90625 35.328125 27.9375 35.308594 28.007812 34.984375 C 28.382812 33.242188 27.625 30.925781 25.863281 28.425781 L 25.542969 27.96875 L 25.699219 27.785156 C 28.945312 23.960938 29.132812 18.699219 26.257812 11.96875 L 26.207031 11.84375 L 27.945312 12.703125 C 31.53125 14.476562 32.316406 14.800781 33.03125 14.800781 C 33.976562 14.800781 33.78125 13.9375 32.472656 12.292969 C 28.519531 7.355469 25.394531 5.925781 21.921875 7.472656 L 21.558594 7.636719 L 21.578125 7.542969 C 21.699219 6.992188 21.761719 5.742188 21.699219 5.164062 C 21.496094 3.296875 20.664062 1.964844 19.003906 0.855469 C 18.480469 0.503906 18.457031 0.5 18.214844 0.632812\"/>\n",
              "</g>\n",
              "      </svg>\n",
              "    "
            ]
          },
          "metadata": {}
        },
        {
          "output_type": "stream",
          "name": "stdout",
          "text": [
            "Question : make a triangle\n"
          ]
        }
      ]
    },
    {
      "cell_type": "code",
      "source": [
        "import ColabTurtlePlus.Turtle as t\n",
        "from ColabTurtlePlus.Turtle import *\n",
        "\n",
        "t.initializeTurtle()\n",
        "t.shape('square')\n",
        "t.setup(400,400)\n",
        "t.showborder()\n",
        "t.forward(100)\n"
      ],
      "metadata": {
        "colab": {
          "base_uri": "https://localhost:8080/",
          "height": 422
        },
        "id": "jWt2qobPE99n",
        "outputId": "45bdc526-3351-4cb6-ab26-d48e6b3dc819"
      },
      "execution_count": 27,
      "outputs": [
        {
          "output_type": "display_data",
          "data": {
            "text/plain": [
              "<IPython.core.display.HTML object>"
            ],
            "text/html": [
              "\n",
              "      <svg width=\"400\" height=\"400\">  \n",
              "        <rect width=\"100%\" height=\"100%\" style=\"fill:white;stroke:gray;stroke-width:1\"/>\n",
              "        \n",
              "        \n",
              "        <line x1=\"200.0\" y1=\"200.0\" x2=\"210.0\" y2=\"200.0\" stroke-linecap=\"round\" style=\"stroke:black;stroke-width:1\" /><line x1=\"210.0\" y1=\"200.0\" x2=\"220.0\" y2=\"200.0\" stroke-linecap=\"round\" style=\"stroke:black;stroke-width:1\" /><line x1=\"220.0\" y1=\"200.0\" x2=\"230.0\" y2=\"200.0\" stroke-linecap=\"round\" style=\"stroke:black;stroke-width:1\" /><line x1=\"230.0\" y1=\"200.0\" x2=\"240.0\" y2=\"200.0\" stroke-linecap=\"round\" style=\"stroke:black;stroke-width:1\" /><line x1=\"240.0\" y1=\"200.0\" x2=\"250.0\" y2=\"200.0\" stroke-linecap=\"round\" style=\"stroke:black;stroke-width:1\" /><line x1=\"250.0\" y1=\"200.0\" x2=\"260.0\" y2=\"200.0\" stroke-linecap=\"round\" style=\"stroke:black;stroke-width:1\" /><line x1=\"260.0\" y1=\"200.0\" x2=\"270.0\" y2=\"200.0\" stroke-linecap=\"round\" style=\"stroke:black;stroke-width:1\" /><line x1=\"270.0\" y1=\"200.0\" x2=\"280.0\" y2=\"200.0\" stroke-linecap=\"round\" style=\"stroke:black;stroke-width:1\" /><line x1=\"280.0\" y1=\"200.0\" x2=\"290.0\" y2=\"200.0\" stroke-linecap=\"round\" style=\"stroke:black;stroke-width:1\" /><line x1=\"290.0\" y1=\"200.0\" x2=\"300.0\" y2=\"200.0\" stroke-linecap=\"round\" style=\"stroke:black;stroke-width:1\" />\n",
              "        \n",
              "        \n",
              "        <g id=\"square\" visibility=\"visible\" transform=\"rotate(-90,300.0,200.0) translate(300.0, 200.0)\">\n",
              "<polygon points=\"10,-10 10,10 -10,10 -10,-10\" transform=\"skewX(0) scale(1,1)\" style=\"stroke:black;fill:black;stroke-width:1\" />\n",
              "</g>\n",
              "      </svg>\n",
              "    "
            ]
          },
          "metadata": {}
        }
      ]
    },
    {
      "cell_type": "code",
      "source": [
        "radius = 10;\n",
        "PI = 3.141592;\n",
        "\n",
        "area = radius * 2 * PI;\n",
        "print(\"반지름\",radius,\"인 원의 면적=\",area);"
      ],
      "metadata": {
        "colab": {
          "base_uri": "https://localhost:8080/"
        },
        "id": "VvtSN7uabpvh",
        "outputId": "fad40185-8332-40ce-e3c9-5c4c299633bd"
      },
      "execution_count": 5,
      "outputs": [
        {
          "output_type": "stream",
          "name": "stdout",
          "text": [
            "반지름 10 인 원의 면적= 62.83184\n"
          ]
        }
      ]
    },
    {
      "cell_type": "code",
      "source": [
        "W = 10;\n",
        "H = 10;\n",
        "Volume = (W*H)/2;\n",
        "\n",
        "print(\"밑변의 길이가\",W,\"cm이고, 높이가\",H,\"cm인 삼각형의 면적은\", Volume,\"이다.\")"
      ],
      "metadata": {
        "colab": {
          "base_uri": "https://localhost:8080/"
        },
        "id": "_Pkq0reZdARi",
        "outputId": "e893ee8d-a7b5-429b-e475-8fbe6af17d40"
      },
      "execution_count": 8,
      "outputs": [
        {
          "output_type": "stream",
          "name": "stdout",
          "text": [
            "밑변의 길이가 10 cm이고, 높이가 10 cm인 삼각형의 면적은 50.0 이다.\n"
          ]
        }
      ]
    },
    {
      "cell_type": "code",
      "source": [
        "print(type(\"123\"))\n",
        "print(type(123))\n",
        "print(type(1.23))\n",
        "a = 10\n",
        "b = 10\n",
        "print(type(a))\n",
        "\n",
        "print(id(a))\n",
        "print(id(b))\n",
        "\n"
      ],
      "metadata": {
        "colab": {
          "base_uri": "https://localhost:8080/"
        },
        "id": "6p6HMSDSgbkn",
        "outputId": "8eada8f0-2519-4dd6-ef63-8ff153b02310"
      },
      "execution_count": 45,
      "outputs": [
        {
          "output_type": "stream",
          "name": "stdout",
          "text": [
            "<class 'str'>\n",
            "<class 'int'>\n",
            "<class 'float'>\n",
            "<class 'int'>\n",
            "140565310806608\n",
            "140565310806608\n"
          ]
        }
      ]
    },
    {
      "cell_type": "code",
      "source": [
        "ftemp = 100\n",
        "\n",
        "ctemp= ((ftemp-32.0)*5.0)/9.0\n",
        "print(\"섭씨온도:\", ctemp)"
      ],
      "metadata": {
        "colab": {
          "base_uri": "https://localhost:8080/"
        },
        "id": "dPvhMZSziFIE",
        "outputId": "db58744a-777f-4aae-8ccc-1559c9897337"
      },
      "execution_count": 46,
      "outputs": [
        {
          "output_type": "stream",
          "name": "stdout",
          "text": [
            "섭씨온도: 37.77777777777778\n"
          ]
        }
      ]
    },
    {
      "cell_type": "code",
      "source": [
        "ctemp = 37.77777777777778\n",
        "\n",
        "ftemp = ((ctemp*9.0)/5.0)+32.0\n",
        "print(\"화씨온도:\", ftemp)"
      ],
      "metadata": {
        "colab": {
          "base_uri": "https://localhost:8080/"
        },
        "id": "ZwT-B2pjih-3",
        "outputId": "1e563360-3356-45a6-88db-530fde2a20ef"
      },
      "execution_count": 53,
      "outputs": [
        {
          "output_type": "stream",
          "name": "stdout",
          "text": [
            "화씨온도: 100.0\n"
          ]
        }
      ]
    },
    {
      "cell_type": "code",
      "source": [
        "PI = 3.14\n",
        "r = 5\n",
        "h = 10\n",
        "V = PI*r*r*h\n",
        "\n",
        "print(\"반지름이\",r,\"높이가\",h,\"인 원기둥의 부피는\",V,\"입니다\")"
      ],
      "metadata": {
        "colab": {
          "base_uri": "https://localhost:8080/"
        },
        "id": "TdbLjBILkNDJ",
        "outputId": "25976f17-8f4f-4d9b-e86c-3b1ce04cc197"
      },
      "execution_count": 56,
      "outputs": [
        {
          "output_type": "stream",
          "name": "stdout",
          "text": [
            "반지름이 5 높이가 10 인 원기둥의 부피는 785.0 입니다\n"
          ]
        }
      ]
    },
    {
      "cell_type": "code",
      "source": [
        "origin_money = 24                  #원금\n",
        "r = 0.06                           #이자율\n",
        "year = 382                         #기간\n",
        "result = origin_money*(1+r)**year  #원리금합계\n",
        "\n",
        "result = round(result, 1)\n",
        "\n",
        "print(\"원리금합계(USD Dollar, 소수점 1번째 자리까지 표시.)=\",result)"
      ],
      "metadata": {
        "colab": {
          "base_uri": "https://localhost:8080/"
        },
        "id": "ir87ocYln5CJ",
        "outputId": "ceffedca-b38b-4c11-f8d9-26bb581b947b"
      },
      "execution_count": 63,
      "outputs": [
        {
          "output_type": "stream",
          "name": "stdout",
          "text": [
            "원리금합계(USD Dollar, 소수점 1번째 자리)= 111442737812.3\n"
          ]
        }
      ]
    },
    {
      "cell_type": "code",
      "source": [
        "speed = 300000.0\n",
        "distance = 40*(10**12)\n",
        "\n",
        "sec = distance/speed \n",
        "light_year= sec/((60.0**2)*24.0*365.0)\n",
        "\n",
        "print(light_year,\"광년\")"
      ],
      "metadata": {
        "colab": {
          "base_uri": "https://localhost:8080/"
        },
        "id": "_j1T2kttpYHm",
        "outputId": "acffb6a6-400f-433c-97bc-1ae2445dd6c5"
      },
      "execution_count": 71,
      "outputs": [
        {
          "output_type": "stream",
          "name": "stdout",
          "text": [
            "4.227972264501945 광년\n"
          ]
        }
      ]
    },
    {
      "cell_type": "code",
      "source": [
        "import ColabTurtle.Turtle as t\n",
        "t.initializeTurtle(initial_speed = 5)\n",
        "print(\"Question : make a star in pentagon\")\n",
        "t.color(\"Blue\")\n",
        "\n",
        "t.left(90)\n",
        "t.forward(100)\n",
        "\n",
        "t.right(72)\n",
        "t.forward(100)\n",
        "\n",
        "t.right(72)\n",
        "t.forward(100)\n",
        "\n",
        "t.right(72)\n",
        "t.forward(100)\n",
        "\n",
        "t.right(72)\n",
        "t.forward(100)\n",
        "\n",
        "t.right(108)\n",
        "t.forward(160)\n",
        "\n",
        "t.right(145)\n",
        "t.forward(160)\n",
        "\n",
        "t.right(145)\n",
        "t.forward(160)\n",
        "\n",
        "t.right(145)\n",
        "t.forward(160)\n",
        "\n",
        "t.right(145)\n",
        "t.forward(160)"
      ],
      "metadata": {
        "colab": {
          "base_uri": "https://localhost:8080/",
          "height": 540
        },
        "id": "ta78CBILtEDq",
        "outputId": "2c5d8223-702e-40e5-b193-969ece89b95b"
      },
      "execution_count": 24,
      "outputs": [
        {
          "output_type": "display_data",
          "data": {
            "text/plain": [
              "<IPython.core.display.HTML object>"
            ],
            "text/html": [
              "\n",
              "      <svg width=\"800\" height=\"500\">\n",
              "        <rect width=\"100%\" height=\"100%\" fill=\"black\"/>\n",
              "        <line x1=\"400\" y1=\"250\" x2=\"300.0\" y2=\"250.0\" stroke-linecap=\"round\" style=\"stroke:blue;stroke-width:4\"/><line x1=\"300.0\" y1=\"250.0\" x2=\"269.098\" y2=\"154.894\" stroke-linecap=\"round\" style=\"stroke:blue;stroke-width:4\"/><line x1=\"269.098\" y1=\"154.894\" x2=\"350.0\" y2=\"96.115\" stroke-linecap=\"round\" style=\"stroke:blue;stroke-width:4\"/><line x1=\"350.0\" y1=\"96.115\" x2=\"430.902\" y2=\"154.894\" stroke-linecap=\"round\" style=\"stroke:blue;stroke-width:4\"/><line x1=\"430.902\" y1=\"154.894\" x2=\"400.0\" y2=\"250.0\" stroke-linecap=\"round\" style=\"stroke:blue;stroke-width:4\"/><line x1=\"400.0\" y1=\"250.0\" x2=\"270.557\" y2=\"155.954\" stroke-linecap=\"round\" style=\"stroke:blue;stroke-width:4\"/><line x1=\"270.557\" y1=\"155.954\" x2=\"430.533\" y2=\"158.746\" stroke-linecap=\"round\" style=\"stroke:blue;stroke-width:4\"/><line x1=\"430.533\" y1=\"158.746\" x2=\"297.887\" y2=\"248.217\" stroke-linecap=\"round\" style=\"stroke:blue;stroke-width:4\"/><line x1=\"297.887\" y1=\"248.217\" x2=\"355.226\" y2=\"98.844\" stroke-linecap=\"round\" style=\"stroke:blue;stroke-width:4\"/><line x1=\"355.226\" y1=\"98.844\" x2=\"393.934\" y2=\"254.091\" stroke-linecap=\"round\" style=\"stroke:blue;stroke-width:4\"/>\n",
              "        <g visibility=visible transform=\"rotate(166,393.934,254.091) translate(375.934, 236.091)\">\n",
              "<path style=\" stroke:none;fill-rule:evenodd;fill:blue;fill-opacity:1;\" d=\"M 18.214844 0.632812 C 16.109375 1.800781 15.011719 4.074219 15.074219 7.132812 L 15.085938 7.652344 L 14.785156 7.496094 C 13.476562 6.824219 11.957031 6.671875 10.40625 7.066406 C 8.46875 7.550781 6.515625 9.15625 4.394531 11.992188 C 3.0625 13.777344 2.679688 14.636719 3.042969 15.027344 L 3.15625 15.152344 L 3.519531 15.152344 C 4.238281 15.152344 4.828125 14.886719 8.1875 13.039062 C 9.386719 12.378906 10.371094 11.839844 10.378906 11.839844 C 10.386719 11.839844 10.355469 11.929688 10.304688 12.035156 C 9.832031 13.09375 9.257812 14.820312 8.96875 16.078125 C 7.914062 20.652344 8.617188 24.53125 11.070312 27.660156 C 11.351562 28.015625 11.363281 27.914062 10.972656 28.382812 C 8.925781 30.84375 7.945312 33.28125 8.238281 35.1875 C 8.289062 35.527344 8.28125 35.523438 8.917969 35.523438 C 10.941406 35.523438 13.074219 34.207031 15.136719 31.6875 C 15.359375 31.417969 15.328125 31.425781 15.5625 31.574219 C 16.292969 32.042969 18.023438 32.964844 18.175781 32.964844 C 18.335938 32.964844 19.941406 32.210938 20.828125 31.71875 C 20.996094 31.625 21.136719 31.554688 21.136719 31.558594 C 21.203125 31.664062 21.898438 32.414062 22.222656 32.730469 C 23.835938 34.300781 25.5625 35.132812 27.582031 35.300781 C 27.90625 35.328125 27.9375 35.308594 28.007812 34.984375 C 28.382812 33.242188 27.625 30.925781 25.863281 28.425781 L 25.542969 27.96875 L 25.699219 27.785156 C 28.945312 23.960938 29.132812 18.699219 26.257812 11.96875 L 26.207031 11.84375 L 27.945312 12.703125 C 31.53125 14.476562 32.316406 14.800781 33.03125 14.800781 C 33.976562 14.800781 33.78125 13.9375 32.472656 12.292969 C 28.519531 7.355469 25.394531 5.925781 21.921875 7.472656 L 21.558594 7.636719 L 21.578125 7.542969 C 21.699219 6.992188 21.761719 5.742188 21.699219 5.164062 C 21.496094 3.296875 20.664062 1.964844 19.003906 0.855469 C 18.480469 0.503906 18.457031 0.5 18.214844 0.632812\"/>\n",
              "</g>\n",
              "      </svg>\n",
              "    "
            ]
          },
          "metadata": {}
        },
        {
          "output_type": "stream",
          "name": "stdout",
          "text": [
            "Question : make a star in pentagon\n"
          ]
        }
      ]
    }
  ]
}